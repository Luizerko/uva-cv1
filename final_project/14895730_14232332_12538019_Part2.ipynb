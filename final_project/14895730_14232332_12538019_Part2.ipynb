{
 "cells": [
  {
   "cell_type": "markdown",
   "metadata": {
    "id": "d7PRKfXw99hy"
   },
   "source": [
    "<center><img src=\"https://editor.analyticsvidhya.com/uploads/46151Deep_Learning_Software_DE_1380x735px_1150x_.png\" width=50% ></center>\n",
    "\n",
    "# <center> Lab Project Part 2: Image Classification using Convolutional Neural Networks </center>\n",
    "<center> Computer Vision 1, University of Amsterdam </center>\n",
    "<center> Due 23:59, October 21, 2023 (Amsterdam time) </center>\n",
    "\n",
    "***\n",
    "\n",
    "<center>\n",
    "<b>TA's: Xiaoyan Xing, Vladimir Yugay, Luca Pantea</b>\n",
    "\n",
    "Student1 ID: 14895730 \\\n",
    "Student1 Name:Luis Vitor Zerkowski\n",
    "\n",
    "Student2 ID: 14232332\\\n",
    "Student2 Name:Tanya Kaintura\n",
    "\n",
    "Student3 ID: 12538019\\\n",
    "Student3 Name:Jelle van der Lee\n",
    "</center>"
   ]
  },
  {
   "cell_type": "markdown",
   "metadata": {
    "id": "u3TPoO70b2iE"
   },
   "source": [
    "# **Instructions**\n",
    "\n",
    "1. Students are expected to prepare a report covering both sections of this assignment. The report should include answers to all questions, written details on implementation approaches, the analysis of the results for different settings and visualizations to illustrate experiments with and performance of your implementation. Grading will primarily be based on the report (i.e. it should be self-contained as much as possible). If the report contains any faulty results or ambiguities, the TA's can take a look at your code to find out what happened.\n",
    "\n",
    "2. Do not just provide numbers without explanation, remember to follow the general guidelines and discuss different settings to show you understand the material and the processes at work.\n",
    "\n",
    "3. This part of the Final Lab contains an *optional* bonus challenge. See section 3 below.\n",
    "\n",
    "**Hint:** Having visual elements such as charts, graphs and plots are always useful for everyone. Keep this in mind while writing your reports.\n"
   ]
  },
  {
   "cell_type": "markdown",
   "metadata": {
    "id": "iY6wdmc299h1"
   },
   "source": [
    "# **General Guidelines**\n",
    "1. **Aim**:\n",
    "     - Able to understand Image Recognition/Classification using Convolutional Neural Networks.\n",
    "     - Get familiar with PyTorch, widely used Deep Learning framework\n",
    "2. **Prerequisites**:\n",
    "     - Familiarity with Python and relevant packages.\n",
    "     - Know the basics of feature descriptors (SIFT, HoG) and machine learning tools (K-means, SVM and etc.).\n",
    "3. **Guidelines**:\n",
    "    Students should work on the assignments in their assignment group for **two** weeks.\n",
    "\n",
    "    Any questions regarding the assignment content can be discussed on Piazza.\n",
    "    \n",
    "    Your source code and report must be handed in together in a zip file (**ID1_ID2_ID3_part2.zip**) before the deadline. Make sure your report follows these guidelines:\n",
    "    - *The maximum number of pages for this part is 10 (single-column, including tables and figures). Please express your thoughts concisely.*\n",
    "    - *Follow the given instructions and answer all given questions. **Briefly describe what you implemented for each question in the report**.*\n",
    "    - *Show you understand the algorithms and implementations: explain why certain settings produce certain results. When constructing graphs, tables and other figures, make your figures as informative as possible (choose relevant sample sizes, axes, etc.), to illustrate your arguments*\n",
    "    - *Tables and figures must be accompanied by a brief description. Do not forget to add a number, a title, and if applicable name and unit of variables in a table, name and unit of axes and legends in a figure.*\n",
    "\n",
    "4. The report should be handed in in **PDF-format**. Your code should be handed in in **.ipynb format** (Jupyter Notebook). This does not mean you have to make your project in a notebook, it just means it **should be submitted as a notebook**. This means that you can, for example, have separate python files in which you declare your classes/methods, but **_you will have to initialize/call these in the final notebook before you submit_**. Be sure to test whether all your functionality works as expected when ran in a notebook (**Before submission, go in the `Kernel` tab and press `Restart & Run All`**). If you use a Conda environment, be sure to include it in your submission.\n",
    "\n",
    "5. **Late submissions** are not allowed. Assignments that are submitted after the strict deadline will not be graded. In case of submission conflicts, TAs' system clock is taken as reference. We strongly recommend submitting well in advance, to avoid last minute system failure issues.\n",
    "\n",
    "6. **Plagiarism note**: Keep in mind that plagiarism (submitted materials which are not your work) is a serious crime and any misconduct shall be punished with the university regulations. This includes the use of ChatGPT and other generative AI tools.\n",
    "\n",
    "<!-- ### PyTorch versions\n",
    "we assume that you are using latest PyTorch version(>=1.4)\n",
    "\n",
    "### PyTorch Tutorial & Docs\n",
    "This tutorial aims to make you familiar with the programming environment that will be used throughout the course. If you have experience with PyTorch or other frameworks (TensorFlow, MXNet *etc.*), you can skip the tutorial exercises; otherwise, we suggest that you complete them all, as they are helpful for getting hands-on experience.\n",
    "\n",
    "**Anaconda Environment** We recommend installing \\textit{anaconda} for configuring \\textit{python} package dependencies, whereas it's also fine to use other environment managers as you like. The installation of anaconda can be found in [anaconda link](https://docs.anaconda.com/anaconda/install/).\n",
    "\n",
    "**Installation** The installation of PyTorch is available at [install link](https://pytorch.org/get-started/locally/) depending on your device and system.\n",
    "\n",
    "**Getting start** The 60-minute blitz can be found at [blitz](https://pytorch.org/tutorials/beginner/deep_learning_60min_blitz.html), and and examples are at [examples](https://pytorch.org/tutorials/beginner/pytorch_with_examples.html)\n",
    "\n",
    "**Documents** There might be potential unknown functions or classes, you shall look through the official documents website ([Docs](https://pytorch.org/docs/stable/index.html)) and figure them out by yourself. (***Think***:} What's the difference between *torch.nn.Conv2d* and *torch.nn.functional.conv2d*?)\n",
    "You can learn pytorch from the [tutorial link](https://pytorch.org/tutorials/). The Docs information can be searched at [Docs](https://pytorch.org/docs/stable/index.html). In this assignments, we wish you to form the basic capability of using one of the well-known   -->"
   ]
  },
  {
   "cell_type": "markdown",
   "metadata": {
    "id": "D2EILNe3JR1b"
   },
   "source": [
    "#  **Introduction**\n",
    "\n",
    "This part of the assignment makes use of Convolutional Neural Networks (CNN's). The previous part makes use of hand-crafted features like SIFT to represent images, then trains a classifier on top of them. In this way, learning is a two-step procedure with image representation and learning. The method used here instead *learns* the features jointly with the classification. Training CNNs roughly consists of three parts:\n",
    "1. Creating the network architecture\n",
    "\n",
    "2. Preprocessing the data\n",
    "\n",
    "3. Feeding the data to the network, and updating the parameters.\n",
    "\n",
    "Please follow the instructions and finish the below tasks. (**Note:**  you are allowed to change the provided code.)"
   ]
  },
  {
   "cell_type": "markdown",
   "metadata": {
    "id": "CXQBnhT499h2"
   },
   "source": [
    "# **Section 1: Image Classifiation on CIFAR-100**\n",
    "### 1.1 Install pytorch and run the given code\n",
    "\n",
    "First of all, you need to install PyTorch and relevant packages. In this part, we will use [CIFAR-100](https://www.cs.toronto.edu/~kriz/cifar.html) as the training and testing dataset."
   ]
  },
  {
   "cell_type": "code",
   "execution_count": 1,
   "metadata": {
    "id": "47K1Kzph99h3"
   },
   "outputs": [],
   "source": [
    "#####################################################\n",
    "# referenced code: https://pytorch.org/tutorials/\n",
    "# referenced code: http://cs231n.stanford.edu/\n",
    "# referenced code: https://cs.stanford.edu/~acoates/stl10/\n",
    "######################################################\n",
    "import torch\n",
    "import torchvision\n",
    "import torchvision.transforms as transforms\n",
    "import torch.nn as nn\n",
    "import torch.nn.functional as F\n",
    "import matplotlib.pyplot as plt\n",
    "import numpy as np\n",
    "import torch.optim as optim\n",
    "from PIL import Image\n",
    "\n",
    "from torch.utils.data import DataLoader, random_split, Dataset"
   ]
  },
  {
   "cell_type": "code",
   "execution_count": 2,
   "metadata": {
    "id": "8AU03smp99h4"
   },
   "outputs": [
    {
     "name": "stdout",
     "output_type": "stream",
     "text": [
      "Files already downloaded and verified\n"
     ]
    }
   ],
   "source": [
    "transform = transforms.Compose(\n",
    "    [transforms.ToTensor(),\n",
    "     transforms.Normalize((0.5, 0.5, 0.5), (0.5, 0.5, 0.5))])\n",
    "\n",
    "trainset = torchvision.datasets.CIFAR100(root='./data', train=True,\n",
    "                                        download=True, transform=transform)\n",
    "trainloader = torch.utils.data.DataLoader(trainset, batch_size=5,\n",
    "                                          shuffle=True, num_workers=2)\n",
    "\n",
    "testset = torchvision.datasets.CIFAR100(root='./data', train=False,\n",
    "                                       download=False, transform=transform)\n",
    "testloader = torch.utils.data.DataLoader(testset, batch_size=4,\n",
    "                                         shuffle=False, num_workers=2)\n",
    "\n",
    "classes = ('apple', 'aquarium_fish', 'baby','bear', 'beaver','bed','bee','beetle','bicycle','bottle', 'bowl','boy','bridge', 'bus','butterfly', 'camel','can','castle','caterpillar','cattle',\n",
    " 'chair','chimpanzee','clock','cloud', 'cockroach','couch', 'cra','crocodile', 'cup','dinosaur','dolphin', 'elephant','flatfish', 'forest', 'fox','girl', 'hamster', 'house','kangaroo','keyboard',\n",
    "'lamp', 'lawn_mower', 'leopard', 'lion','lizard','lobster', 'man','maple_tree','motorcycle', 'mountain', 'mouse','mushroom','oak_tree', 'orange','orchid', 'otter', 'palm_tree','pear', 'pickup_truck','pine_tree',\n",
    "'plain', 'plate', 'poppy','porcupine','possum','rabbit','raccoon','ray','road','rocket','rose','sea', 'seal', 'shark','shrew', 'skunk','skyscraper', 'snail','snake','spider',\n",
    "'squirrel', 'streetcar', 'sunflower','sweet_pepper', 'table','tank','telephone', 'television', 'tiger','tractor','train','trout', 'tulip', 'turtle','wardrobe', 'whale', 'willow_tree','wolf', 'woman','worm')"
   ]
  },
  {
   "cell_type": "markdown",
   "metadata": {
    "id": "qvNbVoMh99h5"
   },
   "source": [
    "####  **` Q1.1: Test dataloader and show the images of each class  of CIFAR-100 (3-pts)`**  \n",
    "You need to run and modify the given code and **show** the example images of CIFAR-100, **describe** the classes and images of CIFAR-100. (Please visualize at least one picture for the classes of labels from 0 to 4.) (3-*pts*)"
   ]
  },
  {
   "cell_type": "code",
   "execution_count": 3,
   "metadata": {
    "id": "7hhMU6z999h6"
   },
   "outputs": [],
   "source": [
    "def imshow(img):\n",
    "    img = img / 2 + 0.5     # unnormalize\n",
    "    npimg = img.numpy()\n",
    "    plt.imshow(np.transpose(npimg, (1, 2, 0)))\n",
    "    plt.show()"
   ]
  },
  {
   "cell_type": "code",
   "execution_count": 4,
   "metadata": {
    "id": "7iPwTYDB99h7"
   },
   "outputs": [
    {
     "data": {
      "image/png": "[encoded data removed]",
      "text/plain": [
       "<Figure size 432x288 with 1 Axes>"
      ]
     },
     "metadata": {
      "needs_background": "light"
     },
     "output_type": "display_data"
    },
    {
     "name": "stdout",
     "output_type": "stream",
     "text": [
      "maple_tree lobster turtle spider tiger\n"
     ]
    }
   ],
   "source": [
    "# get some random training images\n",
    "dataiter = iter(trainloader)\n",
    "images, labels = next(dataiter)\n",
    "\n",
    "# show images\n",
    "imshow(torchvision.utils.make_grid(images))\n",
    "\n",
    "# print labels\n",
    "print(' '.join('%5s' % classes[labels[j]] for j in range(5)))"
   ]
  },
  {
   "cell_type": "code",
   "execution_count": 5,
   "metadata": {},
   "outputs": [],
   "source": [
    "def imshow(img):\n",
    "  img = img / 2 + 0.5     # unnormalize\n",
    "  npimg = img.numpy()\n",
    "  plt.imshow(np.transpose(npimg, (1, 2, 0)))\n",
    "  plt.show()\n",
    "\n",
    "# Get some random training images\n",
    "dataiter = iter(trainloader)\n",
    "\n",
    "found_count = 0\n",
    "    \n",
    "found_images = {}\n",
    "\n",
    "while found_count < 5:  # Find images for class labels 0 to 4\n",
    "    images, labels = next(dataiter)\n",
    "    for j in range(4):\n",
    "        label = labels[j].item()\n",
    "        if label in range(5) and label not in found_images:\n",
    "            found_images[label] = images[j]\n",
    "            found_count += 1\n",
    "\n",
    "# # Display the found images and their class labels\n",
    "# for label, img in found_images.items():\n",
    "#     imshow(torchvision.utils.make_grid(img))\n",
    "#     print('Class label:', classes[label])"
   ]
  },
  {
   "cell_type": "code",
   "execution_count": 6,
   "metadata": {},
   "outputs": [
    {
     "data": {
      "image/png": "[encoded data removed]",
      "text/plain": [
       "<Figure size 1080x216 with 5 Axes>"
      ]
     },
     "metadata": {
      "needs_background": "light"
     },
     "output_type": "display_data"
    }
   ],
   "source": [
    "# Display the found images and their class labels side by side\n",
    "fig, axes = plt.subplots(1, 5, figsize=(15, 3))\n",
    "\n",
    "for i, (label, img) in enumerate(found_images.items()):\n",
    "    axes[i].imshow(np.transpose(torchvision.utils.make_grid(img) / 2 + 0.5, (1, 2, 0)))\n",
    "    axes[i].set_title('Class: ' + classes[label])\n",
    "    axes[i].axis('off')\n",
    "\n",
    "plt.show()"
   ]
  },
  {
   "cell_type": "code",
   "execution_count": 7,
   "metadata": {},
   "outputs": [
    {
     "name": "stdout",
     "output_type": "stream",
     "text": [
      "('apple', 'aquarium_fish', 'baby', 'bear', 'beaver', 'bed', 'bee', 'beetle', 'bicycle', 'bottle', 'bowl', 'boy', 'bridge', 'bus', 'butterfly', 'camel', 'can', 'castle', 'caterpillar', 'cattle', 'chair', 'chimpanzee', 'clock', 'cloud', 'cockroach', 'couch', 'cra', 'crocodile', 'cup', 'dinosaur', 'dolphin', 'elephant', 'flatfish', 'forest', 'fox', 'girl', 'hamster', 'house', 'kangaroo', 'keyboard', 'lamp', 'lawn_mower', 'leopard', 'lion', 'lizard', 'lobster', 'man', 'maple_tree', 'motorcycle', 'mountain', 'mouse', 'mushroom', 'oak_tree', 'orange', 'orchid', 'otter', 'palm_tree', 'pear', 'pickup_truck', 'pine_tree', 'plain', 'plate', 'poppy', 'porcupine', 'possum', 'rabbit', 'raccoon', 'ray', 'road', 'rocket', 'rose', 'sea', 'seal', 'shark', 'shrew', 'skunk', 'skyscraper', 'snail', 'snake', 'spider', 'squirrel', 'streetcar', 'sunflower', 'sweet_pepper', 'table', 'tank', 'telephone', 'television', 'tiger', 'tractor', 'train', 'trout', 'tulip', 'turtle', 'wardrobe', 'whale', 'willow_tree', 'wolf', 'woman', 'worm')\n"
     ]
    }
   ],
   "source": [
    "print(classes)"
   ]
  },
  {
   "cell_type": "markdown",
   "metadata": {
    "id": "DZ6OkCV9LIM9"
   },
   "source": [
    "### 1.2 Architecture understanding\n",
    "\n",
    "In this section, we provide templates for two classes inheriting from the PyTorch superclass [*nn.Module*](https://pytorch.org/docs/stable/generated/torch.nn.Module.html) (the base class for all neural network modules). One is an ordinary two-layer network (*TwolayerNet*) with fully connected layers and ReLu, and the other is a Convolutional Network (*ConvNet*) utilizing the structure of [LeNet-5](https://ieeexplore.ieee.org/document/726791).\n",
    "\n",
    "**Note**: you are allowed to change the provided function definitions."
   ]
  },
  {
   "cell_type": "markdown",
   "metadata": {
    "id": "w6a1z2vK99h7"
   },
   "source": [
    "####  **`Q1.2: Architecture understanding. Implement architecture of TwolayerNet and ConvNet (4-pts).`**\n",
    "\n",
    "1. Complement the architecture of *TwolayerNet* class, and complement the architecture of *ConvNet* class using the structure of LeNet-5. (2-*pts*)\n",
    "2. Since you need to feed color images into these two networks, what's the kernel size of the first convolutional layer in *ConvNet*? and how many trainable parameters are there in \"F6\" layer (given the calculation process)? (2-*pts*)"
   ]
  },
  {
   "cell_type": "code",
   "execution_count": 8,
   "metadata": {
    "id": "ILrfnDDv99h8"
   },
   "outputs": [],
   "source": [
    "class TwoLayerNet(nn.Module):\n",
    "    # assign layer objects to class attributes\n",
    "    # nn.init package contains convenient initialization methods\n",
    "    # http://pytorch.org/docs/master/nn.html#torch-nn-init\n",
    "    def __init__(self, input_size, hidden_size, num_classes):\n",
    "        '''\n",
    "        :param input_size: 3*32*32\n",
    "        :param hidden_size:\n",
    "        :param num_classes:100\n",
    "        '''\n",
    "        super(TwoLayerNet, self).__init__()\n",
    "        ################################\n",
    "        # Fully connected layers\n",
    "        self.fc1 = nn.Linear(input_size, hidden_size)\n",
    "        self.fc2 = nn.Linear(hidden_size, num_classes)\n",
    "        ################################\n",
    "\n",
    "    def forward(self,x):\n",
    "        x = x.view(x.shape[0], -1)\n",
    "        scores = self.fc2(F.relu(self.fc1(x)))\n",
    "        return scores"
   ]
  },
  {
   "cell_type": "code",
   "execution_count": 9,
   "metadata": {
    "id": "5E2a9-lz99h8"
   },
   "outputs": [],
   "source": [
    "class ConvNet(nn.Module):\n",
    "    def __init__(self,num_classes=100):\n",
    "        super(ConvNet, self).__init__()\n",
    "        ################################\n",
    "        # Convolutional layers similar to LeNet-5        \n",
    "        self.conv1 = nn.Conv2d(in_channels=3, out_channels=6, kernel_size=5)  # Kernel size is 5\n",
    "        self.pool1 = nn.AvgPool2d(kernel_size=2, stride=2)\n",
    "        self.conv2 = nn.Conv2d(in_channels=6, out_channels=16, kernel_size=5)\n",
    "        self.pool2 = nn.AvgPool2d(kernel_size=2, stride=2)\n",
    "        self.fc1 = nn.Linear(16 * 5 * 5, 120)\n",
    "        self.fc2 = nn.Linear(120, 84)\n",
    "        self.fc3 = nn.Linear(84, num_classes)\n",
    "        ################################\n",
    "\n",
    "    def forward(self, x):\n",
    "        ################################\n",
    "        x = self.pool1(F.relu(self.conv1(x)))  \n",
    "        x = self.pool2(F.relu(self.conv2(x))) \n",
    "        x = x.view(x.shape[0], -1)  \n",
    "        x = F.relu(self.fc1(x))  \n",
    "        x = F.relu(self.fc2(x))  #\n",
    "        x = self.fc3(x)\n",
    "        return x"
   ]
  },
  {
   "cell_type": "code",
   "execution_count": 10,
   "metadata": {},
   "outputs": [
    {
     "name": "stdout",
     "output_type": "stream",
     "text": [
      "ConvNet(\n",
      "  (conv1): Conv2d(3, 6, kernel_size=(5, 5), stride=(1, 1))\n",
      "  (pool1): AvgPool2d(kernel_size=2, stride=2, padding=0)\n",
      "  (conv2): Conv2d(6, 16, kernel_size=(5, 5), stride=(1, 1))\n",
      "  (pool2): AvgPool2d(kernel_size=2, stride=2, padding=0)\n",
      "  (fc1): Linear(in_features=400, out_features=120, bias=True)\n",
      "  (fc2): Linear(in_features=120, out_features=84, bias=True)\n",
      "  (fc3): Linear(in_features=84, out_features=100, bias=True)\n",
      ")\n"
     ]
    }
   ],
   "source": [
    "def count_parameters(model):\n",
    "    return sum(p.numel() for p in model.parameters() if p.requires_grad)\n",
    "\n",
    "# Create an instance of your ConvNet\n",
    "conv_net = ConvNet(num_classes=100)\n",
    "print(conv_net)"
   ]
  },
  {
   "cell_type": "code",
   "execution_count": 11,
   "metadata": {},
   "outputs": [
    {
     "name": "stdout",
     "output_type": "stream",
     "text": [
      "Layer: conv1.weight, Parameters: 450\n",
      "Layer: conv1.bias, Parameters: 6\n",
      "Layer: conv2.weight, Parameters: 2400\n",
      "Layer: conv2.bias, Parameters: 16\n",
      "Layer: fc1.weight, Parameters: 48000\n",
      "Layer: fc1.bias, Parameters: 120\n",
      "Layer: fc2.weight, Parameters: 10080\n",
      "Layer: fc2.bias, Parameters: 84\n",
      "Layer: fc3.weight, Parameters: 8400\n",
      "Layer: fc3.bias, Parameters: 100\n"
     ]
    }
   ],
   "source": [
    "# Calculate the number of trainable parameters for each layer\n",
    "for name, param in conv_net.named_parameters():\n",
    "    if param.requires_grad:\n",
    "        print(f\"Layer: {name}, Parameters: {param.numel()}\")"
   ]
  },
  {
   "cell_type": "markdown",
   "metadata": {
    "id": "aCP1tS7lL8hF"
   },
   "source": [
    "### 1.3 Preparation of training\n",
    "\n",
    "In above section, we use the *CIFAR-100* dataset class from *torchvision.utils* provided by PyTorch. Whereas in most cases, you need to prepare the dataset yourself. One of the ways is to create a *dataset* class yourself and then use the *DataLoader* to make it iterable. After preparing the training and testing data, you also need to define the transform function for data augmentation and optimizer for parameter updating."
   ]
  },
  {
   "cell_type": "markdown",
   "metadata": {
    "id": "1oyc8Ksd99h-"
   },
   "source": [
    "####  **` Q1.3: Preparation of training. Create the Dataloader class, define the transform function and the optimizer.(8-pts)`**  \n",
    "1. Complement the *CIFAR100\\_loader* (2-pts)\n",
    "2. Complement the *Transform* function and the *Optimizer* (2-pts)\n",
    "3. Train the *TwolayerNet* and *ConvNet* with *CIFAR100\\_loader*, *Transform* and *Optimizer* you implemented and compare the results (4-pts)"
   ]
  },
  {
   "cell_type": "markdown",
   "metadata": {
    "id": "QkImoAsU99h-"
   },
   "source": [
    "##### *` Complement the CIFAR100_loader class (2-pts)`*"
   ]
  },
  {
   "cell_type": "code",
   "execution_count": 12,
   "metadata": {
    "id": "G9Za4VSP99h_"
   },
   "outputs": [],
   "source": [
    "###  suggested reference: https://pytorch.org/tutorials/\n",
    "# recipes/recipes/custom_dataset_transforms_loader.html?highlight=dataloader\n",
    "# functions to show an image\n",
    "\n",
    "class CIFAR100_loader(torch.utils.data.Dataset):\n",
    "    def __init__(self, root, train=True, transform=None):\n",
    "        '''CIFAR-100 dataset loader'''\n",
    "        ################################\n",
    "        self.data = torchvision.datasets.CIFAR100(\n",
    "            root=root, train=train, download=True, transform=transform)\n",
    "        ################################\n",
    "\n",
    "    def __len__(self):\n",
    "        return len(self.data)\n",
    "\n",
    "    def __getitem__(self, item):\n",
    "        ################################\n",
    "        img, target = self.data[item]\n",
    "        ################################\n",
    "        return img, target"
   ]
  },
  {
   "cell_type": "markdown",
   "metadata": {
    "id": "mYKtNWW_99h_"
   },
   "source": [
    "##### *` Complement the Transform function and the Optimizer (2-pts)`*"
   ]
  },
  {
   "cell_type": "code",
   "execution_count": 13,
   "metadata": {
    "id": "E2yNqZpZ99h_"
   },
   "outputs": [],
   "source": [
    "# Define data transformations for training and testing\n",
    "transform_train = transforms.Compose([\n",
    "    transforms.RandomHorizontalFlip(0.5),\n",
    "    transforms.RandomVerticalFlip(0.2),\n",
    "    transforms.RandomRotation(30),\n",
    "    transforms.RandomAdjustSharpness(0.4),\n",
    "    transforms.RandomCrop(32, padding=4),\n",
    "    transforms.ToTensor(),\n",
    "    transforms.Normalize((0.5, 0.5, 0.5), (0.5, 0.5, 0.5)),\n",
    "])\n",
    "\n",
    "transform_test = transforms.Compose([\n",
    "    transforms.ToTensor(),\n",
    "    transforms.Normalize((0.5, 0.5, 0.5), (0.5, 0.5, 0.5)),\n",
    "])\n",
    "\n",
    "def initialize_optimizer(model, learning_rate):\n",
    "    optimizer = optim.Adam(model.parameters(), lr=learning_rate)\n",
    "    return optimizer"
   ]
  },
  {
   "cell_type": "markdown",
   "metadata": {
    "id": "EYpJN5Cb99h_"
   },
   "source": [
    "##### *` Train the TwolayerNet and ConvNet with CIFAR100_loader, transform and optimizer you implemented and compare the results (4-pts)`*"
   ]
  },
  {
   "cell_type": "code",
   "execution_count": 14,
   "metadata": {
    "id": "7FBozCDk99h-"
   },
   "outputs": [],
   "source": [
    "def valid(net, testloader):\n",
    "    net.eval()\n",
    "    device = torch.device(\"cuda\" if torch.cuda.is_available() else \"cpu\")\n",
    "    correct = 0\n",
    "    total = 0\n",
    "    with torch.no_grad():\n",
    "        for data in testloader:\n",
    "            inputs, labels = data\n",
    "            inputs, labels = inputs.to(device), labels.to(device)\n",
    "            outputs = net(inputs)\n",
    "            _, predicted = torch.max(outputs.data, 1)\n",
    "            total += labels.size(0)\n",
    "            correct += (predicted == labels).sum().item()\n",
    "\n",
    "    accuracy = 100 * correct / total\n",
    "    print('Accuracy of the network on the 10000 test images: %d %%' % (accuracy))\n",
    "    return accuracy"
   ]
  },
  {
   "cell_type": "code",
   "execution_count": 15,
   "metadata": {
    "id": "zm7FuYwJ99h-"
   },
   "outputs": [],
   "source": [
    "def valid_class(net, testloader, classes):\n",
    "    net.eval()\n",
    "    device = torch.device(\"cuda\" if torch.cuda.is_available() else \"cpu\")\n",
    "    class_correct = list(0. for _ in range(len(classes)))\n",
    "    class_total = list(0. for _ in range(len(classes)))\n",
    "    with torch.no_grad():\n",
    "        for data in testloader:\n",
    "            inputs, labels = data\n",
    "            inputs, labels = inputs.to(device), labels.to(device)\n",
    "            outputs = net(inputs)\n",
    "            _, predicted = torch.max(outputs, 1)\n",
    "            c = (predicted == labels).squeeze()\n",
    "            for i in range(len(labels)):\n",
    "                label = labels[i]\n",
    "                class_correct[label] += c[i].item()\n",
    "                class_total[label] += 1\n",
    "\n",
    "    for i in range(len(classes)):\n",
    "        print('Accuracy of %5s : %2d %%' % (\n",
    "            classes[i], 100 * class_correct[i] / class_total[i]))"
   ]
  },
  {
   "cell_type": "code",
   "execution_count": 16,
   "metadata": {
    "id": "hNwBZvfX99h_"
   },
   "outputs": [],
   "source": [
    "def train(net, train_loader, optimizer, epochs=100):\n",
    "    # Determine the device to use\n",
    "    device = torch.device(\"cuda\" if torch.cuda.is_available() else \"cpu\")\n",
    "    print(f'Training on {device}')\n",
    "\n",
    "    # Move the network to the device\n",
    "    net.to(device)\n",
    "\n",
    "    ################################\n",
    "    # Define the loss function (e.g., CrossEntropyLoss)\n",
    "    criterion = nn.CrossEntropyLoss()\n",
    "    ################################\n",
    "\n",
    "    # Training\n",
    "    net.train()\n",
    "    for epoch in range(epochs):\n",
    "        ################################\n",
    "        running_loss = 0.0\n",
    "        for i, data in enumerate(train_loader, 0):\n",
    "            inputs, labels = data\n",
    "            inputs, labels = inputs.to(device), labels.to(device)\n",
    "\n",
    "            # Zero the parameter gradients\n",
    "            optimizer.zero_grad()\n",
    "\n",
    "            # Forward pass\n",
    "            outputs = net(inputs)\n",
    "            loss = criterion(outputs, labels)\n",
    "\n",
    "            # Backpropagation and optimization\n",
    "            loss.backward()\n",
    "            optimizer.step()\n",
    "\n",
    "            running_loss += loss.item()\n",
    "\n",
    "        print(f'Epoch [{epoch + 1}/{epochs}] Loss: {running_loss / (i + 1):.3f}')\n",
    "        ################################\n",
    "\n",
    "    print('Finished Training')"
   ]
  },
  {
   "cell_type": "markdown",
   "metadata": {
    "id": "lCDHGe9-3bng"
   },
   "source": [
    "*Initialize the datasets*"
   ]
  },
  {
   "cell_type": "code",
   "execution_count": 17,
   "metadata": {
    "id": "MvF76gJx3bnh"
   },
   "outputs": [
    {
     "name": "stdout",
     "output_type": "stream",
     "text": [
      "Files already downloaded and verified\n",
      "Files already downloaded and verified\n"
     ]
    }
   ],
   "source": [
    "# Datasets\n",
    "train_set = CIFAR100_loader('./data', True, transform_train)\n",
    "test_set = CIFAR100_loader('./data', False, transform_test)\n",
    "\n",
    "# Initialize the dataloaders\n",
    "train_data_loader = DataLoader(train_set, batch_size=64, shuffle=True, num_workers=0)\n",
    "test_data_loader = DataLoader(test_set, batch_size=64, shuffle=False, num_workers=0)"
   ]
  },
  {
   "cell_type": "markdown",
   "metadata": {
    "id": "wxfxa_Rj8X5z"
   },
   "source": [
    "*Train the TwolayerNet network*"
   ]
  },
  {
   "cell_type": "code",
   "execution_count": 31,
   "metadata": {
    "id": "rd3ql4B27yEl"
   },
   "outputs": [
    {
     "name": "stdout",
     "output_type": "stream",
     "text": [
      "Training on cpu\n",
      "Epoch [1/10] Loss: 4.162\n",
      "Epoch [2/10] Loss: 3.912\n",
      "Epoch [3/10] Loss: 3.818\n",
      "Epoch [4/10] Loss: 3.765\n",
      "Epoch [5/10] Loss: 3.732\n",
      "Epoch [6/10] Loss: 3.703\n",
      "Epoch [7/10] Loss: 3.681\n",
      "Epoch [8/10] Loss: 3.667\n",
      "Epoch [9/10] Loss: 3.657\n",
      "Epoch [10/10] Loss: 3.649\n",
      "Finished Training\n",
      "Accuracy of the network on the 10000 test images: 11 %\n",
      "Accuracy of apple : 24 %\n",
      "Accuracy of aquarium_fish : 27 %\n",
      "Accuracy of  baby :  1 %\n",
      "Accuracy of  bear :  9 %\n",
      "Accuracy of beaver :  0 %\n",
      "Accuracy of   bed :  2 %\n",
      "Accuracy of   bee : 17 %\n",
      "Accuracy of beetle : 21 %\n",
      "Accuracy of bicycle :  0 %\n",
      "Accuracy of bottle : 21 %\n",
      "Accuracy of  bowl :  1 %\n",
      "Accuracy of   boy :  1 %\n",
      "Accuracy of bridge :  6 %\n",
      "Accuracy of   bus :  3 %\n",
      "Accuracy of butterfly : 12 %\n",
      "Accuracy of camel :  7 %\n",
      "Accuracy of   can :  1 %\n",
      "Accuracy of castle : 25 %\n",
      "Accuracy of caterpillar :  8 %\n",
      "Accuracy of cattle : 10 %\n",
      "Accuracy of chair : 72 %\n",
      "Accuracy of chimpanzee : 40 %\n",
      "Accuracy of clock :  0 %\n",
      "Accuracy of cloud :  8 %\n",
      "Accuracy of cockroach :  2 %\n",
      "Accuracy of couch :  0 %\n",
      "Accuracy of   cra :  0 %\n",
      "Accuracy of crocodile :  1 %\n",
      "Accuracy of   cup :  5 %\n",
      "Accuracy of dinosaur :  0 %\n",
      "Accuracy of dolphin : 15 %\n",
      "Accuracy of elephant :  0 %\n",
      "Accuracy of flatfish :  1 %\n",
      "Accuracy of forest :  0 %\n",
      "Accuracy of   fox :  0 %\n",
      "Accuracy of  girl :  9 %\n",
      "Accuracy of hamster :  3 %\n",
      "Accuracy of house : 13 %\n",
      "Accuracy of kangaroo :  3 %\n",
      "Accuracy of keyboard :  2 %\n",
      "Accuracy of  lamp :  5 %\n",
      "Accuracy of lawn_mower :  8 %\n",
      "Accuracy of leopard :  4 %\n",
      "Accuracy of  lion :  0 %\n",
      "Accuracy of lizard :  2 %\n",
      "Accuracy of lobster :  2 %\n",
      "Accuracy of   man :  9 %\n",
      "Accuracy of maple_tree : 15 %\n",
      "Accuracy of motorcycle :  1 %\n",
      "Accuracy of mountain : 31 %\n",
      "Accuracy of mouse :  0 %\n",
      "Accuracy of mushroom : 19 %\n",
      "Accuracy of oak_tree : 18 %\n",
      "Accuracy of orange : 59 %\n",
      "Accuracy of orchid : 15 %\n",
      "Accuracy of otter :  0 %\n",
      "Accuracy of palm_tree :  1 %\n",
      "Accuracy of  pear :  3 %\n",
      "Accuracy of pickup_truck : 13 %\n",
      "Accuracy of pine_tree : 13 %\n",
      "Accuracy of plain : 56 %\n",
      "Accuracy of plate : 24 %\n",
      "Accuracy of poppy : 40 %\n",
      "Accuracy of porcupine :  7 %\n",
      "Accuracy of possum :  1 %\n",
      "Accuracy of rabbit :  2 %\n",
      "Accuracy of raccoon :  0 %\n",
      "Accuracy of   ray :  9 %\n",
      "Accuracy of  road : 11 %\n",
      "Accuracy of rocket :  9 %\n",
      "Accuracy of  rose : 11 %\n",
      "Accuracy of   sea : 11 %\n",
      "Accuracy of  seal :  3 %\n",
      "Accuracy of shark : 54 %\n",
      "Accuracy of shrew :  1 %\n",
      "Accuracy of skunk : 37 %\n",
      "Accuracy of skyscraper : 41 %\n",
      "Accuracy of snail :  9 %\n",
      "Accuracy of snake :  0 %\n",
      "Accuracy of spider :  0 %\n",
      "Accuracy of squirrel :  0 %\n",
      "Accuracy of streetcar :  0 %\n",
      "Accuracy of sunflower : 58 %\n",
      "Accuracy of sweet_pepper : 21 %\n",
      "Accuracy of table :  8 %\n",
      "Accuracy of  tank : 14 %\n",
      "Accuracy of telephone :  0 %\n",
      "Accuracy of television : 34 %\n",
      "Accuracy of tiger :  1 %\n",
      "Accuracy of tractor : 10 %\n",
      "Accuracy of train :  3 %\n",
      "Accuracy of trout :  5 %\n",
      "Accuracy of tulip : 24 %\n",
      "Accuracy of turtle :  7 %\n",
      "Accuracy of wardrobe : 11 %\n",
      "Accuracy of whale : 24 %\n",
      "Accuracy of willow_tree : 20 %\n",
      "Accuracy of  wolf :  0 %\n",
      "Accuracy of woman :  4 %\n",
      "Accuracy of  worm :  2 %\n"
     ]
    }
   ],
   "source": [
    "################################\n",
    "# Train the TwoLayerNet\n",
    "input_size = 3 * 32 * 32  # Modify this to match your input size\n",
    "hidden_size = 64  # Modify this as needed\n",
    "num_classes = 100\n",
    "\n",
    "two_layer_net = TwoLayerNet(input_size, hidden_size, num_classes)\n",
    "optimizer_two_layer = initialize_optimizer(two_layer_net, learning_rate=0.001)\n",
    "\n",
    "train(two_layer_net, train_data_loader, optimizer_two_layer, epochs=10)\n",
    "\n",
    "# Evaluate the accuracy on the test set\n",
    "valid(two_layer_net, test_data_loader)\n",
    "\n",
    "valid_class(two_layer_net, test_data_loader, classes)\n",
    "\n",
    "################################"
   ]
  },
  {
   "cell_type": "markdown",
   "metadata": {
    "id": "GySb8UWX8emz"
   },
   "source": [
    "*Train the ConvNet network*"
   ]
  },
  {
   "cell_type": "code",
   "execution_count": 33,
   "metadata": {
    "id": "4JL9by9A7yQb"
   },
   "outputs": [
    {
     "name": "stdout",
     "output_type": "stream",
     "text": [
      "Training on cpu\n",
      "Epoch [1/10] Loss: 4.168\n",
      "Epoch [2/10] Loss: 3.819\n",
      "Epoch [3/10] Loss: 3.672\n",
      "Epoch [4/10] Loss: 3.588\n",
      "Epoch [5/10] Loss: 3.527\n",
      "Epoch [6/10] Loss: 3.471\n",
      "Epoch [7/10] Loss: 3.428\n",
      "Epoch [8/10] Loss: 3.391\n",
      "Epoch [9/10] Loss: 3.364\n",
      "Epoch [10/10] Loss: 3.328\n",
      "Finished Training\n",
      "Accuracy of the network on the 10000 test images: 22 %\n",
      "Accuracy of apple : 54 %\n",
      "Accuracy of aquarium_fish : 39 %\n",
      "Accuracy of  baby : 12 %\n",
      "Accuracy of  bear :  5 %\n",
      "Accuracy of beaver : 11 %\n",
      "Accuracy of   bed : 23 %\n",
      "Accuracy of   bee : 25 %\n",
      "Accuracy of beetle : 13 %\n",
      "Accuracy of bicycle : 11 %\n",
      "Accuracy of bottle : 21 %\n",
      "Accuracy of  bowl :  2 %\n",
      "Accuracy of   boy :  1 %\n",
      "Accuracy of bridge : 28 %\n",
      "Accuracy of   bus : 21 %\n",
      "Accuracy of butterfly :  9 %\n",
      "Accuracy of camel :  7 %\n",
      "Accuracy of   can :  7 %\n",
      "Accuracy of castle : 56 %\n",
      "Accuracy of caterpillar : 20 %\n",
      "Accuracy of cattle : 15 %\n",
      "Accuracy of chair : 45 %\n",
      "Accuracy of chimpanzee : 52 %\n",
      "Accuracy of clock : 18 %\n",
      "Accuracy of cloud : 54 %\n",
      "Accuracy of cockroach : 57 %\n",
      "Accuracy of couch : 12 %\n",
      "Accuracy of   cra :  8 %\n",
      "Accuracy of crocodile : 12 %\n",
      "Accuracy of   cup : 10 %\n",
      "Accuracy of dinosaur : 16 %\n",
      "Accuracy of dolphin : 32 %\n",
      "Accuracy of elephant :  6 %\n",
      "Accuracy of flatfish :  4 %\n",
      "Accuracy of forest : 14 %\n",
      "Accuracy of   fox : 10 %\n",
      "Accuracy of  girl : 16 %\n",
      "Accuracy of hamster : 23 %\n",
      "Accuracy of house :  9 %\n",
      "Accuracy of kangaroo :  8 %\n",
      "Accuracy of keyboard : 11 %\n",
      "Accuracy of  lamp :  2 %\n",
      "Accuracy of lawn_mower : 61 %\n",
      "Accuracy of leopard :  0 %\n",
      "Accuracy of  lion : 44 %\n",
      "Accuracy of lizard : 10 %\n",
      "Accuracy of lobster :  2 %\n",
      "Accuracy of   man : 11 %\n",
      "Accuracy of maple_tree : 46 %\n",
      "Accuracy of motorcycle : 46 %\n",
      "Accuracy of mountain : 25 %\n",
      "Accuracy of mouse :  1 %\n",
      "Accuracy of mushroom : 18 %\n",
      "Accuracy of oak_tree : 61 %\n",
      "Accuracy of orange : 70 %\n",
      "Accuracy of orchid : 34 %\n",
      "Accuracy of otter :  0 %\n",
      "Accuracy of palm_tree : 30 %\n",
      "Accuracy of  pear : 15 %\n",
      "Accuracy of pickup_truck : 36 %\n",
      "Accuracy of pine_tree :  4 %\n",
      "Accuracy of plain : 66 %\n",
      "Accuracy of plate : 14 %\n",
      "Accuracy of poppy : 37 %\n",
      "Accuracy of porcupine : 29 %\n",
      "Accuracy of possum :  3 %\n",
      "Accuracy of rabbit :  9 %\n",
      "Accuracy of raccoon :  7 %\n",
      "Accuracy of   ray : 22 %\n",
      "Accuracy of  road : 72 %\n",
      "Accuracy of rocket : 24 %\n",
      "Accuracy of  rose : 27 %\n",
      "Accuracy of   sea : 25 %\n",
      "Accuracy of  seal :  0 %\n",
      "Accuracy of shark : 28 %\n",
      "Accuracy of shrew : 16 %\n",
      "Accuracy of skunk : 60 %\n",
      "Accuracy of skyscraper : 54 %\n",
      "Accuracy of snail :  7 %\n",
      "Accuracy of snake :  6 %\n",
      "Accuracy of spider : 13 %\n",
      "Accuracy of squirrel :  6 %\n",
      "Accuracy of streetcar : 17 %\n",
      "Accuracy of sunflower : 58 %\n",
      "Accuracy of sweet_pepper : 31 %\n",
      "Accuracy of table :  9 %\n",
      "Accuracy of  tank : 26 %\n",
      "Accuracy of telephone : 30 %\n",
      "Accuracy of television : 15 %\n",
      "Accuracy of tiger :  6 %\n",
      "Accuracy of tractor : 33 %\n",
      "Accuracy of train : 28 %\n",
      "Accuracy of trout : 35 %\n",
      "Accuracy of tulip :  0 %\n",
      "Accuracy of turtle : 11 %\n",
      "Accuracy of wardrobe : 39 %\n",
      "Accuracy of whale : 40 %\n",
      "Accuracy of willow_tree : 26 %\n",
      "Accuracy of  wolf : 17 %\n",
      "Accuracy of woman : 21 %\n",
      "Accuracy of  worm :  8 %\n"
     ]
    }
   ],
   "source": [
    "################################\n",
    "input_size = 3  # Since the input has 3 channels (RGB)\n",
    "num_classes = 100  # The number of classes in CIFAR-100\n",
    "\n",
    "conv_net = ConvNet(num_classes)  # Create an instance of ConvNet\n",
    "optimizer_conv_net = initialize_optimizer(conv_net, learning_rate=0.001)\n",
    "\n",
    "train(conv_net, train_data_loader, optimizer_conv_net, epochs=10)\n",
    "\n",
    "# Evaluate the accuracy on the test set\n",
    "accuracy_conv_net = valid(conv_net, test_data_loader)\n",
    "\n",
    "valid_class(conv_net, test_data_loader, classes)\n",
    "################################"
   ]
  },
  {
   "cell_type": "markdown",
   "metadata": {
    "id": "SQhUzRuQOOSm"
   },
   "source": [
    "### 1.4 Setting up the hyperparameters\n",
    "\n",
    "Some parameters must be set properly before the training of CNNs. These parameters shape the training procedure. They determine how many images are to be processed at each step, how much the weights of the network will be updated, how many iterations will the network run until convergence.  These parameters are called hyperparameters in the machine learning literature."
   ]
  },
  {
   "cell_type": "markdown",
   "metadata": {
    "id": "mhtGVNHIQ8kT"
   },
   "source": [
    "####  **` Q1.4: Setting up the hyperparameters (10-pts)`**  \n",
    "\n",
    "1. Play with ConvNet and TwolayerNet yourself, set up the hyperparameters, and reach the accuracy as high as you can.\n",
    "You can modify the *train*,  *Dataloader*, *transform* and *Optimizer* function as you like.\n",
    "2. You can also modify the architectures of these two Nets. *Let's add 2 more layers in TwolayerNet and ConvNet, and show the results. (You can decide the size of these layers and where to add them.) Will you get higher performances? explain why.*\n",
    "3.  Show the final results and described what you've done to improve the results. Describe and explain the influence of hyperparameters among *TwolayerNet* and *ConvNet*.\n",
    "4. Compare and explain the differences of these two networks regarding the architecture, performances, and learning rates.\n",
    "\n",
    "**Hint:** You can adjust the following parameters and other parameters not listed as you like: *Learning rate, Batch size, Number of epochs, Optimizer, Transform function, Weight decay etc.* You can also change the structure a bit, for instance, adding Batch Normalization layers.\n",
    "\n",
    "**Note:** Please do not use external well-defined networks and please do not add more than 3 additional (beyond the original network) convolutional layers."
   ]
  },
  {
   "cell_type": "markdown",
   "metadata": {
    "id": "p1Puiytn99h_"
   },
   "source": [
    "#### *`Play with convNet and TwolayerNet, set up the hyperparameters and reach the accuracy as high as you can`*"
   ]
  },
  {
   "cell_type": "code",
   "execution_count": 18,
   "metadata": {
    "id": "ILrfnDDv99h8"
   },
   "outputs": [],
   "source": [
    "class TwoLayerNet(nn.Module):\n",
    "    # assign layer objects to class attributes\n",
    "    # nn.init package contains convenient initialization methods\n",
    "    # http://pytorch.org/docs/master/nn.html#torch-nn-init\n",
    "    def __init__(self, input_size, hidden_size, num_classes):\n",
    "        '''\n",
    "        :param input_size: 3*32*32\n",
    "        :param hidden_size:\n",
    "        :param num_classes:\n",
    "        '''\n",
    "        super(TwoLayerNet, self).__init__()\n",
    "        ################################\n",
    "        # Fully connected layers\n",
    "        self.fc1 = nn.Linear(input_size, hidden_size)\n",
    "        self.fc2 = nn.Linear(hidden_size, hidden_size)\n",
    "        self.fc3 = nn.Linear(hidden_size, hidden_size)\n",
    "        self.fc4 = nn.Linear(hidden_size, num_classes)\n",
    "        ################################\n",
    "\n",
    "    def forward(self, x):\n",
    "        x = x.view(x.shape[0], -1)\n",
    "        x = F.relu(self.fc1(x))\n",
    "        x = F.relu(self.fc2(x))\n",
    "        x = F.relu(self.fc3(x))  # Apply the third fully connected layer\n",
    "        scores = self.fc4(x)  # Apply the fourth fully connected layer\n",
    "        return scores"
   ]
  },
  {
   "cell_type": "code",
   "execution_count": 19,
   "metadata": {
    "id": "5E2a9-lz99h8"
   },
   "outputs": [],
   "source": [
    "class ConvNet(nn.Module):\n",
    "    def __init__(self, num_classes=100):\n",
    "        super(ConvNet, self).__init__()\n",
    "        # Convolutional layers\n",
    "        \n",
    "################### tried network 1 ##############\n",
    "\n",
    "#         self.conv1 = nn.Conv2d(in_channels=3, out_channels=64, kernel_size=5, padding=2)  # Increase the number of channels\n",
    "#         self.bn1 = nn.BatchNorm2d(64)  # Add batch normalization\n",
    "#         self.pool1 = nn.MaxPool2d(kernel_size=2, stride=2)\n",
    "#         self.conv2 = nn.Conv2d(in_channels=64, out_channels=128, kernel_size=3, padding=1)  # Use smaller kernel size and more channels\n",
    "#         self.bn2 = nn.BatchNorm2d(128)  # Add batch normalization\n",
    "#         self.pool2 = nn.MaxPool2d(kernel_size=2, stride=2)\n",
    "#         self.fc1 = nn.Linear(128 * 8 * 8, 256)  # Adjust the input size to match the previous layer\n",
    "#         self.fc2 = nn.Linear(256, num_classes)\n",
    "\n",
    "################### network 2  ###############  \n",
    "\n",
    "        self.conv1 = nn.Conv2d(3, 64, 3, padding=1)\n",
    "        self.bn1 = nn.BatchNorm2d(64)\n",
    "        self.conv2 = nn.Conv2d(64, 128, 3, padding=1)\n",
    "        self.bn2 = nn.BatchNorm2d(128)\n",
    "        self.pool = nn.AvgPool2d(2, 2)\n",
    "        self.fc1 = nn.Linear(128 * 8 * 8, 512)\n",
    "        self.fc2 = nn.Linear(512, num_classes)\n",
    "\n",
    "    def forward(self, x):\n",
    "        x = self.pool(F.relu(self.bn1(self.conv1(x))))\n",
    "        x = self.pool(F.relu(self.bn2(self.conv2(x))))\n",
    "        x = x.view(x.size(0), -1)\n",
    "        x = F.relu(self.fc1(x))\n",
    "        x = self.fc2(x)\n",
    "        return x\n",
    "\n"
   ]
  },
  {
   "cell_type": "code",
   "execution_count": 20,
   "metadata": {},
   "outputs": [
    {
     "name": "stdout",
     "output_type": "stream",
     "text": [
      "ConvNet(\n",
      "  (conv1): Conv2d(3, 64, kernel_size=(3, 3), stride=(1, 1), padding=(1, 1))\n",
      "  (bn1): BatchNorm2d(64, eps=1e-05, momentum=0.1, affine=True, track_running_stats=True)\n",
      "  (conv2): Conv2d(64, 128, kernel_size=(3, 3), stride=(1, 1), padding=(1, 1))\n",
      "  (bn2): BatchNorm2d(128, eps=1e-05, momentum=0.1, affine=True, track_running_stats=True)\n",
      "  (pool): AvgPool2d(kernel_size=2, stride=2, padding=0)\n",
      "  (fc1): Linear(in_features=8192, out_features=512, bias=True)\n",
      "  (fc2): Linear(in_features=512, out_features=100, bias=True)\n",
      ")\n"
     ]
    }
   ],
   "source": [
    "conv_net = ConvNet(num_classes=100)\n",
    "print(conv_net)"
   ]
  },
  {
   "cell_type": "code",
   "execution_count": 21,
   "metadata": {},
   "outputs": [],
   "source": [
    "################----------trying res-net architecture-------------##################\n",
    "\n",
    "# # Define a basic residual block with two convolutional layers\n",
    "# class BasicBlock(nn.Module):\n",
    "#     def __init__(self, in_channels, out_channels, stride=1):\n",
    "#         super(BasicBlock, self).__init__()\n",
    "#         self.conv1 = nn.Conv2d(in_channels, out_channels, kernel_size=3, stride=stride, padding=1, bias=False)\n",
    "#         self.bn1 = nn.BatchNorm2d(out_channels)\n",
    "#         self.relu = nn.ReLU(inplace=True)\n",
    "#         self.conv2 = nn.Conv2d(out_channels, out_channels, kernel_size=3, stride=1, padding=1, bias=False)\n",
    "#         self.bn2 = nn.BatchNorm2d(out_channels)\n",
    "\n",
    "#         # If input and residual dimensions don't match, use 1x1 convolution for the residual\n",
    "#         if in_channels != out_channels or stride != 1:\n",
    "#             self.residual = nn.Sequential(\n",
    "#                 nn.Conv2d(in_channels, out_channels, kernel_size=1, stride=stride, bias=False),\n",
    "#                 nn.BatchNorm2d(out_channels)\n",
    "#             )\n",
    "#         else:\n",
    "#             self.residual = nn.Identity()  # No change in dimensions\n",
    "\n",
    "#     def forward(self, x):\n",
    "#         out = self.conv1(x)\n",
    "#         out = self.bn1(out)\n",
    "#         out = self.relu(out)\n",
    "#         out = self.conv2(out)\n",
    "#         out = self.bn2(out)\n",
    "\n",
    "#         residual = self.residual(x)  # Use residual block\n",
    "\n",
    "#         out += residual\n",
    "#         out = self.relu(out)\n",
    "\n",
    "#         return out\n",
    "\n",
    "\n",
    "# # Define the ResNet model\n",
    "# class ResNet(nn.Module):\n",
    "#     def __init__(self, block, layers, num_classes=100):\n",
    "#         super(ResNet, self).__init__()\n",
    "#         self.in_channels = 64\n",
    "#         self.conv1 = nn.Conv2d(3, 64, kernel_size=7, stride=2, padding=3, bias=False)\n",
    "#         self.bn1 = nn.BatchNorm2d(64)\n",
    "#         self.relu = nn.ReLU(inplace=True)\n",
    "#         self.maxpool = nn.MaxPool2d(kernel_size=3, stride=2, padding=1)\n",
    "#         self.layer1 = self.make_layer(block, 64, layers[0])\n",
    "#         self.layer2 = self.make_layer(block, 128, layers[1], stride=2)\n",
    "#         self.avgpool = nn.AdaptiveAvgPool2d((1, 1))\n",
    "#         self.fc = nn.Linear(128, num_classes)\n",
    "\n",
    "#     def make_layer(self, block, out_channels, blocks, stride=1):\n",
    "#         layers = []\n",
    "#         layers.append(block(self.in_channels, out_channels, stride))\n",
    "#         self.in_channels = out_channels\n",
    "#         for _ in range(1, blocks):\n",
    "#             layers.append(block(out_channels, out_channels))\n",
    "#         return nn.Sequential(*layers)\n",
    "\n",
    "#     def forward(self, x):\n",
    "#         x = self.conv1(x)\n",
    "#         x = self.bn1(x)\n",
    "#         x = self.relu(x)\n",
    "#         x = self.maxpool(x)\n",
    "\n",
    "#         x = self.layer1(x)\n",
    "#         x = self.layer2(x)\n",
    "\n",
    "#         x = self.avgpool(x)\n",
    "#         x = x.view(x.size(0), -1)\n",
    "#         x = self.fc(x)\n",
    "\n",
    "#         return x\n",
    "\n",
    "# # Create the ResNet-18 model\n",
    "# def ResNet18(num_classes=100):\n",
    "#     return ResNet(BasicBlock, [2, 2, 2, 2], num_classes)"
   ]
  },
  {
   "cell_type": "code",
   "execution_count": 22,
   "metadata": {},
   "outputs": [
    {
     "name": "stdout",
     "output_type": "stream",
     "text": [
      "Files already downloaded and verified\n",
      "Files already downloaded and verified\n"
     ]
    }
   ],
   "source": [
    "transform_train = transforms.Compose([\n",
    "    transforms.RandomHorizontalFlip(0.5),\n",
    "    transforms.RandomCrop(32, padding=4),\n",
    "    transforms.ColorJitter(brightness=0.2, contrast=0.2, saturation=0.2, hue=0.1),\n",
    "    transforms.ToTensor(),\n",
    "    transforms.Normalize((0.5, 0.5, 0.5), (0.5, 0.5, 0.5)),\n",
    "])\n",
    "\n",
    "transform_test = transforms.Compose([\n",
    "    transforms.ToTensor(),\n",
    "    transforms.Normalize((0.5, 0.5, 0.5), (0.5, 0.5, 0.5)),\n",
    "])\n",
    "\n",
    "def initialize_optimizer(model, learning_rate):\n",
    "    optimizer = optim.Adam(model.parameters(), lr=learning_rate, weight_decay=1e-4)\n",
    "#     optimizer = optim.SGD(model.parameters(), lr=learning_rate, momentum=0.9, weight_decay=1e-4) \n",
    "#     optimizer = optim.RMSprop(model.parameters(), lr=learning_rate, weight_decay=1e-4)\n",
    "#     optimizer = optim.Adagrad(model.parameters(), lr=learning_rate, weight_decay=1e-4)\n",
    "    return optimizer\n",
    "\n",
    "# Datasets\n",
    "train_set = CIFAR100_loader('./data', True, transform_train)\n",
    "test_set = CIFAR100_loader('./data', False, transform_test)\n",
    "\n",
    "# Initialize the dataloaders\n",
    "train_data_loader = DataLoader(train_set, batch_size=128, shuffle=True, num_workers=0)\n",
    "test_data_loader = DataLoader(test_set, batch_size=128, shuffle=False, num_workers=0)\n",
    "\n",
    "\n",
    "def train(net, train_loader, optimizer, epochs=100):\n",
    "    # Determine the device to use\n",
    "    device = torch.device(\"cuda\" if torch.cuda.is_available() else \"cpu\")\n",
    "    print(f'Training on {device}')\n",
    "\n",
    "    # Move the network to the device\n",
    "    net.to(device)\n",
    "\n",
    "    ################################\n",
    "    # Define the loss function (e.g., CrossEntropyLoss)\n",
    "    criterion = nn.CrossEntropyLoss()\n",
    "    ################################\n",
    "\n",
    "    # Training\n",
    "    net.train()\n",
    "    for epoch in range(epochs):\n",
    "        ################################\n",
    "        running_loss = 0.0\n",
    "        for i, data in enumerate(train_loader, 0):\n",
    "            inputs, labels = data\n",
    "            inputs, labels = inputs.to(device), labels.to(device)\n",
    "\n",
    "            # Zero the parameter gradients\n",
    "            optimizer.zero_grad()\n",
    "\n",
    "            # Forward pass\n",
    "            outputs = net(inputs)\n",
    "            loss = criterion(outputs, labels)\n",
    "\n",
    "            # Backpropagation and optimization\n",
    "            loss.backward()\n",
    "            optimizer.step()\n",
    "\n",
    "            running_loss += loss.item()\n",
    "\n",
    "        print(f'Epoch [{epoch + 1}/{epochs}] Loss: {running_loss / (i + 1):.3f}')\n",
    "        ################################\n",
    "        \n",
    "    # Save the model's state dictionary and architecture\n",
    "    \n",
    "    torch.save({\n",
    "    'architecture': net,\n",
    "    'state_dict': net.state_dict(),\n",
    "    'optimizer_state_dict': optimizer.state_dict(),\n",
    "    'epochs': epochs\n",
    "}, \"./Models/model_sgd_50_temp.pth\")\n",
    "    \n",
    "    print('Finished Training')"
   ]
  },
  {
   "cell_type": "markdown",
   "metadata": {
    "id": "pqQ6-Krp99iA"
   },
   "source": [
    "#### *` Test the accuracy of ConvNet `*"
   ]
  },
  {
   "cell_type": "code",
   "execution_count": 23,
   "metadata": {
    "id": "ciidRXDn99iA",
    "scrolled": true
   },
   "outputs": [
    {
     "name": "stdout",
     "output_type": "stream",
     "text": [
      "Accuracy of the network on the 10000 test images: 56 %\n",
      "Accuracy of apple : 74 %\n",
      "Accuracy of aquarium_fish : 82 %\n",
      "Accuracy of  baby : 51 %\n",
      "Accuracy of  bear : 35 %\n",
      "Accuracy of beaver : 35 %\n",
      "Accuracy of   bed : 64 %\n",
      "Accuracy of   bee : 61 %\n",
      "Accuracy of beetle : 61 %\n",
      "Accuracy of bicycle : 72 %\n",
      "Accuracy of bottle : 67 %\n",
      "Accuracy of  bowl : 44 %\n",
      "Accuracy of   boy : 27 %\n",
      "Accuracy of bridge : 62 %\n",
      "Accuracy of   bus : 55 %\n",
      "Accuracy of butterfly : 48 %\n",
      "Accuracy of camel : 52 %\n",
      "Accuracy of   can : 56 %\n",
      "Accuracy of castle : 59 %\n",
      "Accuracy of caterpillar : 48 %\n",
      "Accuracy of cattle : 39 %\n",
      "Accuracy of chair : 78 %\n",
      "Accuracy of chimpanzee : 73 %\n",
      "Accuracy of clock : 48 %\n",
      "Accuracy of cloud : 73 %\n",
      "Accuracy of cockroach : 76 %\n",
      "Accuracy of couch : 30 %\n",
      "Accuracy of   cra : 55 %\n",
      "Accuracy of crocodile : 26 %\n",
      "Accuracy of   cup : 72 %\n",
      "Accuracy of dinosaur : 47 %\n",
      "Accuracy of dolphin : 52 %\n",
      "Accuracy of elephant : 51 %\n",
      "Accuracy of flatfish : 47 %\n",
      "Accuracy of forest : 43 %\n",
      "Accuracy of   fox : 53 %\n",
      "Accuracy of  girl : 38 %\n",
      "Accuracy of hamster : 55 %\n",
      "Accuracy of house : 61 %\n",
      "Accuracy of kangaroo : 31 %\n",
      "Accuracy of keyboard : 73 %\n",
      "Accuracy of  lamp : 47 %\n",
      "Accuracy of lawn_mower : 76 %\n",
      "Accuracy of leopard : 55 %\n",
      "Accuracy of  lion : 76 %\n",
      "Accuracy of lizard : 26 %\n",
      "Accuracy of lobster : 37 %\n",
      "Accuracy of   man : 30 %\n",
      "Accuracy of maple_tree : 43 %\n",
      "Accuracy of motorcycle : 87 %\n",
      "Accuracy of mountain : 82 %\n",
      "Accuracy of mouse : 34 %\n",
      "Accuracy of mushroom : 67 %\n",
      "Accuracy of oak_tree : 69 %\n",
      "Accuracy of orange : 83 %\n",
      "Accuracy of orchid : 69 %\n",
      "Accuracy of otter : 14 %\n",
      "Accuracy of palm_tree : 71 %\n",
      "Accuracy of  pear : 70 %\n",
      "Accuracy of pickup_truck : 74 %\n",
      "Accuracy of pine_tree : 44 %\n",
      "Accuracy of plain : 83 %\n",
      "Accuracy of plate : 64 %\n",
      "Accuracy of poppy : 58 %\n",
      "Accuracy of porcupine : 49 %\n",
      "Accuracy of possum : 31 %\n",
      "Accuracy of rabbit : 26 %\n",
      "Accuracy of raccoon : 51 %\n",
      "Accuracy of   ray : 55 %\n",
      "Accuracy of  road : 90 %\n",
      "Accuracy of rocket : 79 %\n",
      "Accuracy of  rose : 49 %\n",
      "Accuracy of   sea : 67 %\n",
      "Accuracy of  seal : 32 %\n",
      "Accuracy of shark : 31 %\n",
      "Accuracy of shrew : 36 %\n",
      "Accuracy of skunk : 75 %\n",
      "Accuracy of skyscraper : 78 %\n",
      "Accuracy of snail : 35 %\n",
      "Accuracy of snake : 43 %\n",
      "Accuracy of spider : 58 %\n",
      "Accuracy of squirrel : 32 %\n",
      "Accuracy of streetcar : 54 %\n",
      "Accuracy of sunflower : 68 %\n",
      "Accuracy of sweet_pepper : 61 %\n",
      "Accuracy of table : 43 %\n",
      "Accuracy of  tank : 67 %\n",
      "Accuracy of telephone : 59 %\n",
      "Accuracy of television : 70 %\n",
      "Accuracy of tiger : 62 %\n",
      "Accuracy of tractor : 74 %\n",
      "Accuracy of train : 64 %\n",
      "Accuracy of trout : 65 %\n",
      "Accuracy of tulip : 59 %\n",
      "Accuracy of turtle : 46 %\n",
      "Accuracy of wardrobe : 92 %\n",
      "Accuracy of whale : 65 %\n",
      "Accuracy of willow_tree : 70 %\n",
      "Accuracy of  wolf : 54 %\n",
      "Accuracy of woman : 24 %\n",
      "Accuracy of  worm : 63 %\n"
     ]
    }
   ],
   "source": [
    "################################\n",
    "input_size = 3  # Since the input has 3 channels (RGB)\n",
    "num_classes = 100  # The number of classes in CIFAR-100\n",
    "\n",
    "lr = 0.01\n",
    "epochs = 50\n",
    "#-------------------to train the model (uncomment this)------------------ \n",
    "\n",
    "# conv_net = ConvNet(num_classes)  # Create an instance of ConvNet\n",
    "# optimizer_conv_net = initialize_optimizer(conv_net, learning_rate=lr) \n",
    "\n",
    "# train(conv_net, train_data_loader, optimizer_conv_net, epochs=epochs)\n",
    "\n",
    "# Evaluate the accuracy on the test set\n",
    "# accuracy_conv_net = valid(conv_net, test_data_loader)\n",
    "\n",
    "# valid_class(conv_net, test_data_loader, classes)\n",
    "\n",
    "#---------loading pre-trained mdoel---------------------\n",
    "\n",
    "checkpoint_convnet = torch.load('./Models/model_sgd_50.pth')\n",
    "model_convnet = checkpoint_convnet['architecture']\n",
    "model_convnet.load_state_dict(checkpoint_convnet['state_dict'])\n",
    "\n",
    "# Evaluate the accuracy on the test set\n",
    "accuracy_conv_net = valid(model_convnet, test_data_loader)\n",
    "\n",
    "valid_class(model_convnet, test_data_loader, classes)\n",
    "################################"
   ]
  },
  {
   "cell_type": "markdown",
   "metadata": {
    "id": "mlAIR45199iA"
   },
   "source": [
    "#### *`Test the accuracy of TwolayerNet`*"
   ]
  },
  {
   "cell_type": "code",
   "execution_count": 24,
   "metadata": {
    "id": "W2fMEW-g99iA",
    "scrolled": true
   },
   "outputs": [
    {
     "name": "stdout",
     "output_type": "stream",
     "text": [
      "Accuracy of the network on the 10000 test images: 22 %\n",
      "Accuracy of apple : 52 %\n",
      "Accuracy of aquarium_fish : 45 %\n",
      "Accuracy of  baby :  6 %\n",
      "Accuracy of  bear :  7 %\n",
      "Accuracy of beaver :  6 %\n",
      "Accuracy of   bed : 26 %\n",
      "Accuracy of   bee : 32 %\n",
      "Accuracy of beetle : 17 %\n",
      "Accuracy of bicycle : 13 %\n",
      "Accuracy of bottle : 35 %\n",
      "Accuracy of  bowl :  8 %\n",
      "Accuracy of   boy : 13 %\n",
      "Accuracy of bridge : 21 %\n",
      "Accuracy of   bus : 15 %\n",
      "Accuracy of butterfly : 23 %\n",
      "Accuracy of camel : 12 %\n",
      "Accuracy of   can : 17 %\n",
      "Accuracy of castle : 43 %\n",
      "Accuracy of caterpillar : 22 %\n",
      "Accuracy of cattle : 17 %\n",
      "Accuracy of chair : 60 %\n",
      "Accuracy of chimpanzee : 58 %\n",
      "Accuracy of clock :  9 %\n",
      "Accuracy of cloud : 46 %\n",
      "Accuracy of cockroach : 44 %\n",
      "Accuracy of couch :  7 %\n",
      "Accuracy of   cra :  5 %\n",
      "Accuracy of crocodile :  3 %\n",
      "Accuracy of   cup : 25 %\n",
      "Accuracy of dinosaur : 11 %\n",
      "Accuracy of dolphin : 16 %\n",
      "Accuracy of elephant : 11 %\n",
      "Accuracy of flatfish : 15 %\n",
      "Accuracy of forest :  3 %\n",
      "Accuracy of   fox : 12 %\n",
      "Accuracy of  girl : 18 %\n",
      "Accuracy of hamster : 25 %\n",
      "Accuracy of house :  6 %\n",
      "Accuracy of kangaroo :  2 %\n",
      "Accuracy of keyboard : 12 %\n",
      "Accuracy of  lamp : 31 %\n",
      "Accuracy of lawn_mower : 47 %\n",
      "Accuracy of leopard :  4 %\n",
      "Accuracy of  lion : 37 %\n",
      "Accuracy of lizard :  6 %\n",
      "Accuracy of lobster :  5 %\n",
      "Accuracy of   man : 22 %\n",
      "Accuracy of maple_tree : 39 %\n",
      "Accuracy of motorcycle : 28 %\n",
      "Accuracy of mountain : 54 %\n",
      "Accuracy of mouse :  7 %\n",
      "Accuracy of mushroom : 18 %\n",
      "Accuracy of oak_tree : 50 %\n",
      "Accuracy of orange : 55 %\n",
      "Accuracy of orchid : 27 %\n",
      "Accuracy of otter :  2 %\n",
      "Accuracy of palm_tree : 32 %\n",
      "Accuracy of  pear : 30 %\n",
      "Accuracy of pickup_truck : 18 %\n",
      "Accuracy of pine_tree : 21 %\n",
      "Accuracy of plain : 67 %\n",
      "Accuracy of plate : 24 %\n",
      "Accuracy of poppy : 45 %\n",
      "Accuracy of porcupine : 15 %\n",
      "Accuracy of possum :  9 %\n",
      "Accuracy of rabbit :  2 %\n",
      "Accuracy of raccoon :  2 %\n",
      "Accuracy of   ray : 14 %\n",
      "Accuracy of  road : 54 %\n",
      "Accuracy of rocket : 21 %\n",
      "Accuracy of  rose : 14 %\n",
      "Accuracy of   sea : 32 %\n",
      "Accuracy of  seal :  8 %\n",
      "Accuracy of shark : 34 %\n",
      "Accuracy of shrew :  5 %\n",
      "Accuracy of skunk : 55 %\n",
      "Accuracy of skyscraper : 56 %\n",
      "Accuracy of snail : 19 %\n",
      "Accuracy of snake :  1 %\n",
      "Accuracy of spider :  1 %\n",
      "Accuracy of squirrel :  3 %\n",
      "Accuracy of streetcar :  7 %\n",
      "Accuracy of sunflower : 61 %\n",
      "Accuracy of sweet_pepper : 12 %\n",
      "Accuracy of table : 17 %\n",
      "Accuracy of  tank : 34 %\n",
      "Accuracy of telephone : 14 %\n",
      "Accuracy of television : 11 %\n",
      "Accuracy of tiger :  2 %\n",
      "Accuracy of tractor : 25 %\n",
      "Accuracy of train : 17 %\n",
      "Accuracy of trout : 28 %\n",
      "Accuracy of tulip : 11 %\n",
      "Accuracy of turtle : 20 %\n",
      "Accuracy of wardrobe : 48 %\n",
      "Accuracy of whale : 52 %\n",
      "Accuracy of willow_tree : 18 %\n",
      "Accuracy of  wolf : 10 %\n",
      "Accuracy of woman : 13 %\n",
      "Accuracy of  worm : 12 %\n"
     ]
    }
   ],
   "source": [
    "################################\n",
    "input_size = 3 * 32 * 32  \n",
    "hidden_size = 64 #Modify this as needed\n",
    "num_classes = 100\n",
    "\n",
    "lr = 0.001\n",
    "epochs = 20\n",
    "\n",
    "#-------------------to train the model (uncomment this)------------------ \n",
    "\n",
    "# two_layer_net = TwoLayerNet(input_size, hidden_size, num_classes)\n",
    "# optimizer_two_layer = initialize_optimizer(two_layer_net, learning_rate=lr)\n",
    "\n",
    "# train(two_layer_net, train_data_loader, optimizer_two_layer, epochs=epochs)\n",
    "\n",
    "# # Evaluate the accuracy on the test set\n",
    "# valid(two_layer_net, test_data_loader)\n",
    "\n",
    "# valid_class(two_layer_net, test_data_loader, classes)\n",
    "\n",
    "\n",
    "#---------loading pre-trained mdoel---------------------\n",
    "\n",
    "checkpoint_twonet = torch.load('./Models/model_sgd_50_temp.pth')\n",
    "model_twonet = checkpoint_twonet['architecture']\n",
    "model_twonet.load_state_dict(checkpoint_twonet['state_dict'])\n",
    "\n",
    "valid(model_twonet, test_data_loader)\n",
    "\n",
    "valid_class(model_twonet, test_data_loader, classes)\n",
    "################################"
   ]
  },
  {
   "cell_type": "code",
   "execution_count": 25,
   "metadata": {},
   "outputs": [
    {
     "name": "stdout",
     "output_type": "stream",
     "text": [
      "TwoLayerNet(\n",
      "  (fc1): Linear(in_features=3072, out_features=128, bias=True)\n",
      "  (fc2): Linear(in_features=128, out_features=128, bias=True)\n",
      "  (fc3): Linear(in_features=128, out_features=128, bias=True)\n",
      "  (fc4): Linear(in_features=128, out_features=100, bias=True)\n",
      ")\n"
     ]
    }
   ],
   "source": [
    "print(model_twonet)"
   ]
  },
  {
   "cell_type": "markdown",
   "metadata": {
    "id": "3XX8c2fb99iA"
   },
   "source": [
    "## **Section 2:  Finetuning the ConvNet**\n",
    "### 2.1 STL-10 DATASET\n",
    "> The above networks are trained on CIFAR-100, which\n",
    "contains the images of 100 different object categories, each of which has $32\\times32 \\times3$ dimensions.\n",
    "The dataset we use throughout this section is a subset of [STL-10](https://cs.stanford.edu/~acoates/stl10/)\n",
    "with higher resolution and different object classes. So, there is a discrepancy between the previous dataset (CIFAR-100) and the new dataset (STL-10). One solution would be to train the whole network from scratch. However, the number of parameters is too large to be trained properly with such few images. Another way is to use the pre-trained network (on CIFAR-100) and then finetune the network on the new dataset (STL-10) (*e.g.*, use the same architectures in all layers except the output layer, as the number of output classes changes (from 100 to 5)).\n"
   ]
  },
  {
   "cell_type": "code",
   "execution_count": 26,
   "metadata": {
    "id": "XR1xyOW_sib8"
   },
   "outputs": [
    {
     "name": "stdout",
     "output_type": "stream",
     "text": [
      "sys.version_info(major=3, minor=9, micro=12, releaselevel='final', serial=0)\n"
     ]
    }
   ],
   "source": [
    "# Use the following code if necessary\n",
    "# referenced code: https://cs.stanford.edu/~acoates/stl10/\n",
    "\n",
    "from __future__ import print_function\n",
    "\n",
    "import sys\n",
    "import os, sys, tarfile, errno\n",
    "import numpy as np\n",
    "import matplotlib.pyplot as plt\n",
    "\n",
    "if sys.version_info >= (3, 0, 0):\n",
    "    import urllib.request as urllib\n",
    "else:\n",
    "    import urllib\n",
    "\n",
    "try:\n",
    "    from imageio import imsave\n",
    "except:\n",
    "    from scipy.misc import imsave\n",
    "\n",
    "print(sys.version_info)\n",
    "\n",
    "# image shape\n",
    "HEIGHT = 96\n",
    "WIDTH = 96\n",
    "DEPTH = 3\n",
    "\n",
    "# size of a single image in bytes\n",
    "SIZE = HEIGHT * WIDTH * DEPTH\n",
    "\n",
    "# path to the directory with the data\n",
    "DATA_DIR = './data'\n",
    "\n",
    "# url of the binary data\n",
    "DATA_URL = 'http://ai.stanford.edu/~acoates/stl10/stl10_binary.tar.gz'\n",
    "\n",
    "# path to the binary train file with image data\n",
    "DATA_PATH = './data/stl10_binary/train_X.bin'\n",
    "\n",
    "# path to the binary train file with labels\n",
    "LABEL_PATH = './data/stl10_binary/train_y.bin'\n",
    "\n",
    "def read_labels(path_to_labels):\n",
    "    \"\"\"\n",
    "    :param path_to_labels: path to the binary file containing labels from the STL-10 dataset\n",
    "    :return: an array containing the labels\n",
    "    \"\"\"\n",
    "    with open(path_to_labels, 'rb') as f:\n",
    "        labels = np.fromfile(f, dtype=np.uint8)\n",
    "        return labels\n",
    "\n",
    "\n",
    "def read_all_images(path_to_data):\n",
    "    \"\"\"\n",
    "    :param path_to_data: the file containing the binary images from the STL-10 dataset\n",
    "    :return: an array containing all the images\n",
    "    \"\"\"\n",
    "\n",
    "    with open(path_to_data, 'rb') as f:\n",
    "        # read whole file in uint8 chunks\n",
    "        everything = np.fromfile(f, dtype=np.uint8)\n",
    "\n",
    "        # We force the data into 3x96x96 chunks, since the\n",
    "        # images are stored in \"column-major order\", meaning\n",
    "        # that \"the first 96*96 values are the red channel,\n",
    "        # the next 96*96 are green, and the last are blue.\"\n",
    "        # The -1 is since the size of the pictures depends\n",
    "        # on the input file, and this way numpy determines\n",
    "        # the size on its own.\n",
    "\n",
    "        images = np.reshape(everything, (-1, 3, 96, 96))\n",
    "\n",
    "        # Now transpose the images into a standard image format\n",
    "        # readable by, for example, matplotlib.imshow\n",
    "        # You might want to comment this line or reverse the shuffle\n",
    "        # if you will use a learning algorithm like CNN, since they like\n",
    "        # their channels separated.\n",
    "        images = np.transpose(images, (0, 3, 2, 1))\n",
    "        return images\n",
    "\n",
    "\n",
    "def read_single_image(image_file):\n",
    "    \"\"\"\n",
    "    CAREFUL! - this method uses a file as input instead of the path - so the\n",
    "    position of the reader will be remembered outside of context of this method.\n",
    "    :param image_file: the open file containing the images\n",
    "    :return: a single image\n",
    "    \"\"\"\n",
    "    # read a single image, count determines the number of uint8's to read\n",
    "    image = np.fromfile(image_file, dtype=np.uint8, count=SIZE)\n",
    "    # force into image matrix\n",
    "    image = np.reshape(image, (3, 96, 96))\n",
    "    # transpose to standard format\n",
    "    # You might want to comment this line or reverse the shuffle\n",
    "    # if you will use a learning algorithm like CNN, since they like\n",
    "    # their channels separated.\n",
    "    image = np.transpose(image, (2, 1, 0))\n",
    "    return image\n",
    "\n",
    "\n",
    "def plot_image(image):\n",
    "    \"\"\"\n",
    "    :param image: the image to be plotted in a 3-D matrix format\n",
    "    :return: None\n",
    "    \"\"\"\n",
    "    plt.imshow(image)\n",
    "    plt.show()\n",
    "\n",
    "def save_image(image, name):\n",
    "    imsave(\"%s.png\" % name, image, format=\"png\")\n",
    "\n",
    "def download_and_extract():\n",
    "    \"\"\"\n",
    "    Download and extract the STL-10 dataset\n",
    "    :return: None\n",
    "    \"\"\"\n",
    "    dest_directory = DATA_DIR\n",
    "    if not os.path.exists(dest_directory):\n",
    "        os.makedirs(dest_directory)\n",
    "    filename = DATA_URL.split('/')[-1]\n",
    "    filepath = os.path.join(dest_directory, filename)\n",
    "    if not os.path.exists(filepath):\n",
    "        def _progress(count, block_size, total_size):\n",
    "            sys.stdout.write('\\rDownloading %s %.2f%%' % (filename,\n",
    "                float(count * block_size) / float(total_size) * 100.0))\n",
    "            sys.stdout.flush()\n",
    "        filepath, _ = urllib.urlretrieve(DATA_URL, filepath, reporthook=_progress)\n",
    "        print('Downloaded', filename)\n",
    "        tarfile.open(filepath, 'r:gz').extractall(dest_directory)\n",
    "\n",
    "def save_images(images, labels):\n",
    "    print(\"Saving images to disk\")\n",
    "    i = 0\n",
    "    for image in images:\n",
    "        label = labels[i]\n",
    "        directory = './img/' + str(label) + '/'\n",
    "        try:\n",
    "            os.makedirs(directory, exist_ok=True)\n",
    "        except OSError as exc:\n",
    "            if exc.errno == errno.EEXIST:\n",
    "                pass\n",
    "        filename = directory + str(i)\n",
    "        print(filename)\n",
    "        save_image(image, filename)\n",
    "        i = i + 1\n"
   ]
  },
  {
   "cell_type": "code",
   "execution_count": 21,
   "metadata": {
    "id": "uU0aikuks2Lp"
   },
   "outputs": [],
   "source": [
    "# Use the following code if necessary\n",
    "\n",
    "# download data if needed\n",
    "download_and_extract()\n",
    "\n",
    "# test to check if the image is read correctly\n",
    "with open(DATA_PATH) as f:\n",
    "    image = read_single_image(f)\n",
    "    plot_image(image)\n",
    "\n",
    "# test to check if the whole dataset is read correctly\n",
    "images = read_all_images(DATA_PATH)\n",
    "print(images.shape)\n",
    "\n",
    "labels = read_labels(LABEL_PATH)\n",
    "print(labels.shape)\n",
    "\n",
    "# save images to disk\n",
    "save_images(images, labels)"
   ]
  },
  {
   "cell_type": "markdown",
   "metadata": {
    "id": "pW0p0R6d99iA"
   },
   "source": [
    "#### **`Q2.1 Create the STL10_Dataset (5-pts)`**\n",
    "In this Section, download STL-10 and extract 5 classes from STL-10 training dataset. The the labels of images will be defined as:\n",
    "\n",
    "`{1: 'car', 2:'deer', 3:'horse', 4:'monkey', 5:'truck'}`\n",
    "\n",
    " Extract mentioned 5 classes of images from STL-10. Complement *`STL10_Dataset`* class and match each class with the label accordingly. __Hint__: You can use the code above to help to complement *`STL10_Dataset`* class. (5-pts)\n"
   ]
  },
  {
   "cell_type": "code",
   "execution_count": 27,
   "metadata": {
    "id": "lPhepFAq99iA"
   },
   "outputs": [],
   "source": [
    "from torchvision.datasets import STL10\n",
    "from torch.utils.data import Dataset, DataLoader\n",
    "import torchvision.transforms as transforms\n",
    "import torch.nn as nn\n",
    "import torch.optim as optim\n",
    "from sklearn.manifold import TSNE\n",
    "import matplotlib.pyplot as plt\n",
    "\n",
    "class STL10_Dataset(Dataset):\n",
    "    def __init__(self, root, train=True, transform=None):\n",
    "        ################################\n",
    "        self.data = STL10(root, split='train' if train else 'test', download=True)\n",
    "        self.transform = transform\n",
    "        \n",
    "        self.classes = {\n",
    "            0: 'car',\n",
    "            1: 'deer',\n",
    "            2: 'horse',\n",
    "            3: 'monkey',\n",
    "            4: 'truck'\n",
    "        }\n",
    "        \n",
    "        # Filter data for the specified classes\n",
    "        filtered_data = []\n",
    "        filtered_labels = []\n",
    "        for i in range(len(self.data)):\n",
    "            img, label = self.data[i]\n",
    "            if label in self.classes:\n",
    "                filtered_data.append(img)\n",
    "                filtered_labels.append(label)\n",
    "\n",
    "        self.data = filtered_data\n",
    "        self.labels = filtered_labels\n",
    "        ################################\n",
    "\n",
    "\n",
    "    def __len__(self):\n",
    "        ################################\n",
    "        return len(self.data)\n",
    "        ################################\n",
    "\n",
    "    def __getitem__(self, item):\n",
    "        ################################\n",
    "        img, target = self.data[item], self.labels[item]\n",
    "        if self.transform is not None:\n",
    "            img = self.transform(img)\n",
    "        ################################\n",
    "\n",
    "        return img, target\n",
    "    \n",
    "    \n"
   ]
  },
  {
   "cell_type": "markdown",
   "metadata": {
    "id": "pNLyFVEWw3Ge"
   },
   "source": [
    "### 2.2 Fine-tuning ConvNet\n",
    "You should load the pre-trained parameters and modify the output layer of pre-trained ConvNet from 100 to 5. You can either load the pre-trained parameters and then modify the output layer, or change the output layer firstly and then load the matched pre-trained parameters. The examples can be found at [link1](https://pytorch.org/tutorials/intermediate/torchvision_tutorial.html) and [link2](https://pytorch.org/tutorials/beginner/transfer_learning_tutorial.html).\n"
   ]
  },
  {
   "cell_type": "markdown",
   "metadata": {
    "id": "AC3ipaYR99iB"
   },
   "source": [
    "#### **`Q2.2  Finetuning from ConvNet (10-pts)`**\n",
    "1. Load the pre-trained parameters (pretrained on CIFAR-100) and modify the ConvNet. (5-pts)\n",
    "2. Train the model and show the results (settings of hyperparameters, accuracy, learning curve). (5-pts)\n",
    "\n",
    "**Hint**:  Once the network is trained, it is a good practice to understand the feature space by visualization techniques. There are several techniques to visualize the feature space. [**t-sne**](https://lvdmaaten.github.io/tsne/) is a dimensionality reduction method which can help you better understand the feature learning process."
   ]
  },
  {
   "cell_type": "code",
   "execution_count": 28,
   "metadata": {},
   "outputs": [
    {
     "name": "stdout",
     "output_type": "stream",
     "text": [
      "Files already downloaded and verified\n",
      "Files already downloaded and verified\n"
     ]
    }
   ],
   "source": [
    "# Load STL-10 dataset\n",
    "transform= transforms.Compose([\n",
    "    transforms.RandomHorizontalFlip(),\n",
    "    transforms.RandomRotation(15),\n",
    "    transforms.ToTensor(),\n",
    "    transforms.Normalize((0.5, 0.5, 0.5), (0.5, 0.5, 0.5)),\n",
    "])\n",
    "\n",
    "train_dataset = STL10_Dataset(root='./data', train=True, transform=transform)\n",
    "test_dataset = STL10_Dataset(root='./data', train=False, transform=transform)\n"
   ]
  },
  {
   "cell_type": "code",
   "execution_count": 29,
   "metadata": {},
   "outputs": [],
   "source": [
    "batch_size = 128\n",
    "train_loader = DataLoader(train_dataset, batch_size=batch_size, shuffle=True)\n",
    "test_loader = DataLoader(test_dataset, batch_size=batch_size, shuffle=False)"
   ]
  },
  {
   "cell_type": "code",
   "execution_count": 32,
   "metadata": {
    "id": "tp94zmaw3bnl",
    "scrolled": true
   },
   "outputs": [
    {
     "name": "stdout",
     "output_type": "stream",
     "text": [
      "Epoch 1/60, Train Loss: 1.1440, Test Loss: 0.7715, Train Acc: 56.20%, Test Acc: 71.28%\n",
      "Epoch 2/60, Train Loss: 0.6648, Test Loss: 0.6356, Train Acc: 75.68%, Test Acc: 76.40%\n",
      "Epoch 3/60, Train Loss: 0.5540, Test Loss: 0.6077, Train Acc: 79.16%, Test Acc: 76.45%\n",
      "Epoch 4/60, Train Loss: 0.4982, Test Loss: 0.5701, Train Acc: 80.72%, Test Acc: 77.72%\n",
      "Epoch 5/60, Train Loss: 0.4402, Test Loss: 0.5367, Train Acc: 84.76%, Test Acc: 79.30%\n",
      "Epoch 6/60, Train Loss: 0.4085, Test Loss: 0.5266, Train Acc: 84.32%, Test Acc: 80.22%\n",
      "Epoch 7/60, Train Loss: 0.3574, Test Loss: 0.5297, Train Acc: 87.68%, Test Acc: 79.83%\n",
      "Epoch 8/60, Train Loss: 0.3529, Test Loss: 0.5386, Train Acc: 87.40%, Test Acc: 78.92%\n",
      "Epoch 9/60, Train Loss: 0.3379, Test Loss: 0.5449, Train Acc: 88.36%, Test Acc: 79.22%\n",
      "Epoch 10/60, Train Loss: 0.3243, Test Loss: 0.4984, Train Acc: 88.80%, Test Acc: 81.25%\n",
      "Epoch 11/60, Train Loss: 0.2855, Test Loss: 0.5045, Train Acc: 90.28%, Test Acc: 80.78%\n",
      "Epoch 12/60, Train Loss: 0.2492, Test Loss: 0.5021, Train Acc: 92.04%, Test Acc: 81.20%\n",
      "Epoch 13/60, Train Loss: 0.2215, Test Loss: 0.4814, Train Acc: 92.92%, Test Acc: 81.95%\n",
      "Epoch 14/60, Train Loss: 0.2119, Test Loss: 0.4943, Train Acc: 92.80%, Test Acc: 81.88%\n",
      "Epoch 15/60, Train Loss: 0.1938, Test Loss: 0.5329, Train Acc: 94.32%, Test Acc: 80.60%\n",
      "Epoch 16/60, Train Loss: 0.1869, Test Loss: 0.5616, Train Acc: 94.12%, Test Acc: 79.53%\n",
      "Epoch 17/60, Train Loss: 0.1824, Test Loss: 0.5100, Train Acc: 94.32%, Test Acc: 81.50%\n",
      "Epoch 18/60, Train Loss: 0.1670, Test Loss: 0.5075, Train Acc: 95.08%, Test Acc: 81.92%\n",
      "Epoch 19/60, Train Loss: 0.1592, Test Loss: 0.4932, Train Acc: 95.44%, Test Acc: 82.25%\n",
      "Epoch 20/60, Train Loss: 0.1534, Test Loss: 0.5225, Train Acc: 95.00%, Test Acc: 81.58%\n",
      "Epoch 21/60, Train Loss: 0.1399, Test Loss: 0.5056, Train Acc: 96.12%, Test Acc: 82.38%\n",
      "Epoch 22/60, Train Loss: 0.1232, Test Loss: 0.5125, Train Acc: 97.00%, Test Acc: 82.38%\n",
      "Epoch 23/60, Train Loss: 0.1218, Test Loss: 0.5120, Train Acc: 96.84%, Test Acc: 82.20%\n",
      "Epoch 24/60, Train Loss: 0.1118, Test Loss: 0.5441, Train Acc: 97.44%, Test Acc: 81.10%\n",
      "Epoch 25/60, Train Loss: 0.1078, Test Loss: 0.5229, Train Acc: 97.28%, Test Acc: 82.15%\n",
      "Epoch 26/60, Train Loss: 0.0912, Test Loss: 0.5300, Train Acc: 98.12%, Test Acc: 81.78%\n",
      "Epoch 27/60, Train Loss: 0.0986, Test Loss: 0.5180, Train Acc: 97.96%, Test Acc: 82.55%\n",
      "Epoch 28/60, Train Loss: 0.0990, Test Loss: 0.5222, Train Acc: 97.80%, Test Acc: 82.53%\n",
      "Epoch 29/60, Train Loss: 0.0954, Test Loss: 0.5209, Train Acc: 97.24%, Test Acc: 82.47%\n",
      "Epoch 30/60, Train Loss: 0.0723, Test Loss: 0.5334, Train Acc: 98.64%, Test Acc: 82.35%\n",
      "Epoch 31/60, Train Loss: 0.0734, Test Loss: 0.5405, Train Acc: 98.44%, Test Acc: 81.85%\n",
      "Epoch 32/60, Train Loss: 0.0885, Test Loss: 0.5537, Train Acc: 98.24%, Test Acc: 82.35%\n",
      "Epoch 33/60, Train Loss: 0.1632, Test Loss: 0.5834, Train Acc: 94.36%, Test Acc: 81.05%\n",
      "Epoch 34/60, Train Loss: 0.0843, Test Loss: 0.5598, Train Acc: 97.64%, Test Acc: 82.47%\n",
      "Epoch 35/60, Train Loss: 0.0847, Test Loss: 0.6056, Train Acc: 98.60%, Test Acc: 81.40%\n",
      "Epoch 36/60, Train Loss: 0.1547, Test Loss: 0.5701, Train Acc: 94.36%, Test Acc: 82.05%\n",
      "Epoch 37/60, Train Loss: 0.0756, Test Loss: 0.5627, Train Acc: 98.16%, Test Acc: 82.20%\n",
      "Epoch 38/60, Train Loss: 0.0606, Test Loss: 0.5760, Train Acc: 98.84%, Test Acc: 81.85%\n",
      "Epoch 39/60, Train Loss: 0.0556, Test Loss: 0.5491, Train Acc: 99.08%, Test Acc: 83.12%\n",
      "Epoch 40/60, Train Loss: 0.0549, Test Loss: 0.5535, Train Acc: 99.20%, Test Acc: 82.22%\n",
      "Epoch 41/60, Train Loss: 0.0756, Test Loss: 0.6283, Train Acc: 98.60%, Test Acc: 81.50%\n",
      "Epoch 42/60, Train Loss: 0.0860, Test Loss: 0.5873, Train Acc: 97.24%, Test Acc: 82.20%\n",
      "Epoch 43/60, Train Loss: 0.0656, Test Loss: 0.6731, Train Acc: 99.04%, Test Acc: 80.45%\n",
      "Epoch 44/60, Train Loss: 0.1468, Test Loss: 0.6824, Train Acc: 96.12%, Test Acc: 80.65%\n",
      "Epoch 45/60, Train Loss: 0.2332, Test Loss: 0.6210, Train Acc: 92.28%, Test Acc: 80.62%\n",
      "Epoch 46/60, Train Loss: 0.0696, Test Loss: 0.5834, Train Acc: 97.96%, Test Acc: 82.00%\n",
      "Epoch 47/60, Train Loss: 0.0604, Test Loss: 0.6032, Train Acc: 98.88%, Test Acc: 81.95%\n",
      "Epoch 48/60, Train Loss: 0.0734, Test Loss: 0.5886, Train Acc: 98.52%, Test Acc: 82.45%\n",
      "Epoch 49/60, Train Loss: 0.0609, Test Loss: 0.6188, Train Acc: 98.56%, Test Acc: 81.97%\n",
      "Epoch 50/60, Train Loss: 0.0538, Test Loss: 0.6264, Train Acc: 99.48%, Test Acc: 82.10%\n",
      "Epoch 51/60, Train Loss: 0.0747, Test Loss: 0.6011, Train Acc: 97.84%, Test Acc: 82.90%\n",
      "Epoch 52/60, Train Loss: 0.0461, Test Loss: 0.6189, Train Acc: 99.00%, Test Acc: 82.05%\n",
      "Epoch 53/60, Train Loss: 0.0395, Test Loss: 0.6014, Train Acc: 99.36%, Test Acc: 82.28%\n",
      "Epoch 54/60, Train Loss: 0.0373, Test Loss: 0.6146, Train Acc: 99.44%, Test Acc: 82.55%\n",
      "Epoch 55/60, Train Loss: 0.0330, Test Loss: 0.6250, Train Acc: 99.44%, Test Acc: 82.28%\n",
      "Epoch 56/60, Train Loss: 0.0415, Test Loss: 0.6662, Train Acc: 99.56%, Test Acc: 82.15%\n",
      "Epoch 57/60, Train Loss: 0.0769, Test Loss: 0.6900, Train Acc: 97.12%, Test Acc: 81.40%\n",
      "Epoch 58/60, Train Loss: 0.0309, Test Loss: 0.6534, Train Acc: 99.48%, Test Acc: 82.15%\n",
      "Epoch 59/60, Train Loss: 0.0369, Test Loss: 0.6304, Train Acc: 99.12%, Test Acc: 82.50%\n",
      "Epoch 60/60, Train Loss: 0.0289, Test Loss: 0.6350, Train Acc: 99.56%, Test Acc: 82.67%\n"
     ]
    }
   ],
   "source": [
    "################################\n",
    "# Load the pre-trained parameters (pretrained on CIFAR-100) and modify the ConvNet. (5-pts)\n",
    "# model = torch.load('./Models/model_sgd_50.pth')\n",
    "\n",
    "checkpoint = torch.load('./Models/model_sgd_50.pth')\n",
    "model = checkpoint['architecture']\n",
    "\n",
    "model.load_state_dict(checkpoint['state_dict'])\n",
    "\n",
    "# Modify the output layer to have 5 classes (if needed)\n",
    "if model.fc2.out_features != 5:\n",
    "    num_ftrs = model.fc2.in_features\n",
    "    model.fc2 = nn.Linear(num_ftrs, 5)  # Modify the output layer to have 5 classes\n",
    "    \n",
    "# Correct the in_features of the first linear layer\n",
    "model.fc1 = nn.Linear(73728, 512)\n",
    "\n",
    "\n",
    "# Define hyperparameters and set up data loaders\n",
    "learning_rate = 0.01\n",
    "num_epochs = 60\n",
    "\n",
    "# Define loss function and optimizer\n",
    "criterion = nn.CrossEntropyLoss()\n",
    "optimizer = optim.SGD(model.parameters(), lr=learning_rate, momentum=0.9, weight_decay=1e-4)\n",
    "\n",
    "# Training loop\n",
    "train_losses = []\n",
    "test_losses = []\n",
    "\n",
    "# Lists to store training and validation accuracy\n",
    "train_accuracies = []\n",
    "test_accuracies = []\n",
    "\n",
    "for epoch in range(num_epochs):\n",
    "    model.train()\n",
    "    train_loss = 0.0\n",
    "    correct_train = 0\n",
    "    total_train = 0\n",
    "    for inputs, labels in train_loader:\n",
    "        optimizer.zero_grad()\n",
    "        outputs = model(inputs)\n",
    "        loss = criterion(outputs, labels)\n",
    "        loss.backward()\n",
    "        optimizer.step()\n",
    "        train_loss += loss.item()\n",
    "        _, predicted = outputs.max(1)\n",
    "        total_train += labels.size(0)\n",
    "        correct_train += predicted.eq(labels).sum().item()\n",
    "    train_losses.append(train_loss / len(train_loader))\n",
    "    train_accuracy = 100 * correct_train / total_train\n",
    "    train_accuracies.append(train_accuracy)\n",
    "\n",
    "    model.eval()\n",
    "    test_loss = 0.0\n",
    "    correct = 0\n",
    "    total = 0\n",
    "    with torch.no_grad():\n",
    "        for inputs, labels in test_loader:\n",
    "            outputs = model(inputs)\n",
    "            loss = criterion(outputs, labels)\n",
    "            test_loss += loss.item()\n",
    "            _, predicted = outputs.max(1)\n",
    "            total += labels.size(0)\n",
    "            correct += predicted.eq(labels).sum().item()\n",
    "    test_losses.append(test_loss / len(test_loader))\n",
    "    test_accuracy = 100 * correct / total\n",
    "    test_accuracies.append(test_accuracy)\n",
    "\n",
    "    print(f\"Epoch {epoch + 1}/{num_epochs}, Train Loss: {train_losses[-1]:.4f}, Test Loss: {test_losses[-1]:.4f}, Train Acc: {train_accuracies[-1]:.2f}%, Test Acc: {test_accuracies[-1]:.2f}%\")\n",
    "\n",
    "#################################"
   ]
  },
  {
   "cell_type": "code",
   "execution_count": 167,
   "metadata": {},
   "outputs": [],
   "source": [
    "torch.save({\n",
    "    'architecture': model,\n",
    "    'state_dict': model.state_dict(),\n",
    "    'optimizer_state_dict': optimizer.state_dict(),\n",
    "    'epochs': epochs\n",
    "}, \"./Models/model_sgd_50_stl_2.pth\")"
   ]
  },
  {
   "cell_type": "code",
   "execution_count": 33,
   "metadata": {
    "id": "PN_l_WX199iB",
    "scrolled": true
   },
   "outputs": [
    {
     "data": {
      "image/png": "[encoded data removed]",
      "text/plain": [
       "<Figure size 720x360 with 1 Axes>"
      ]
     },
     "metadata": {
      "needs_background": "light"
     },
     "output_type": "display_data"
    },
    {
     "data": {
      "image/png": "[encoded data removed]",
      "text/plain": [
       "<Figure size 720x360 with 1 Axes>"
      ]
     },
     "metadata": {
      "needs_background": "light"
     },
     "output_type": "display_data"
    }
   ],
   "source": [
    "################################\n",
    "# Train the model and show the results (settings of hyperparameters, accuracy, learning curve). (5-pts)\n",
    "# # Plot learning curve\n",
    "# plt.figure(figsize=(10, 5))\n",
    "# plt.plot(range(1, num_epochs + 1), train_losses, label='Train Loss')\n",
    "# plt.plot(range(1, num_epochs + 1), test_losses, label='Test Loss')\n",
    "# plt.xlabel('Epochs')\n",
    "# plt.ylabel('Loss')\n",
    "# plt.legend()\n",
    "# plt.show()\n",
    "\n",
    "# Plot learning curve\n",
    "plt.figure(figsize=(10, 5))\n",
    "plt.plot(range(1, num_epochs + 1), train_losses, label='Train Loss')\n",
    "plt.plot(range(1, num_epochs + 1), test_losses, label='Test Loss')\n",
    "plt.xlabel('Epochs')\n",
    "plt.ylabel('Loss')\n",
    "plt.legend()\n",
    "plt.show()\n",
    "\n",
    "# Plot training and validation accuracy\n",
    "plt.figure(figsize=(10, 5))\n",
    "plt.plot(range(1, num_epochs + 1), train_accuracies, label='Train Accuracy')\n",
    "plt.plot(range(1, num_epochs + 1), test_accuracies, label='Test Accuracy')\n",
    "plt.xlabel('Epochs')\n",
    "plt.ylabel('Accuracy (%)')\n",
    "plt.legend()\n",
    "plt.show()\n",
    "################################"
   ]
  },
  {
   "cell_type": "code",
   "execution_count": 34,
   "metadata": {},
   "outputs": [
    {
     "name": "stderr",
     "output_type": "stream",
     "text": [
      "/opt/anaconda3/lib/python3.9/site-packages/sklearn/manifold/_t_sne.py:780: FutureWarning: The default initialization in TSNE will change from 'random' to 'pca' in 1.2.\n",
      "  warnings.warn(\n",
      "/opt/anaconda3/lib/python3.9/site-packages/sklearn/manifold/_t_sne.py:790: FutureWarning: The default learning rate in TSNE will change from 200.0 to 'auto' in 1.2.\n",
      "  warnings.warn(\n"
     ]
    },
    {
     "data": {
      "image/png": "[encoded data removed]",
      "text/plain": [
       "<Figure size 576x432 with 1 Axes>"
      ]
     },
     "metadata": {
      "needs_background": "light"
     },
     "output_type": "display_data"
    }
   ],
   "source": [
    "# Feature space visualization using t-SNE\n",
    "model.eval()\n",
    "feature_vectors = []\n",
    "labels = []\n",
    "\n",
    "with torch.no_grad():\n",
    "    for inputs, target in test_loader:\n",
    "        outputs = model(inputs)\n",
    "        feature_vectors.extend(outputs.numpy())\n",
    "        labels.extend(target.numpy())\n",
    "\n",
    "# Apply t-SNE for dimensionality reduction\n",
    "tsne = TSNE(n_components=2, perplexity=30, n_iter=300)\n",
    "tsne_results = tsne.fit_transform(feature_vectors)\n",
    "\n",
    "# Visualize t-SNE results\n",
    "plt.figure(figsize=(8, 6))\n",
    "scatter = plt.scatter(tsne_results[:, 0], tsne_results[:, 1], c=labels, cmap='rainbow')\n",
    "plt.legend(*scatter.legend_elements(), title='Classes')\n",
    "plt.title('t-SNE Visualization of Feature Space')\n",
    "plt.show()"
   ]
  },
  {
   "cell_type": "code",
   "execution_count": null,
   "metadata": {},
   "outputs": [],
   "source": [
    "import matplotlib.pyplot as plt\n",
    "from sklearn.manifold import TSNE\n",
    "\n",
    "model.eval()\n",
    "feature_vectors = []\n",
    "labels = []\n",
    "\n",
    "with torch.no_grad():\n",
    "    for inputs, target in test_loader:\n",
    "        outputs = model(inputs)\n",
    "        feature_vectors.extend(outputs.numpy())\n",
    "        labels.extend(target.numpy())\n",
    "\n",
    "# Increment all labels by 1\n",
    "labels = [label + 1 for label in labels]\n",
    "\n",
    "# Apply t-SNE for dimensionality reduction\n",
    "tsne = TSNE(n_components=2, perplexity=30, n_iter=300)\n",
    "tsne_results = tsne.fit_transform(feature_vectors)\n",
    "\n",
    "# Visualize t-SNE results\n",
    "plt.figure(figsize=(8, 6))\n",
    "scatter = plt.scatter(tsne_results[:, 0], tsne_results[:, 1], c=labels, cmap='rainbow')\n",
    "plt.legend(*scatter.legend_elements(), title='Classes')\n",
    "plt.title('t-SNE Visualization of Feature Space')\n",
    "plt.show()\n"
   ]
  },
  {
   "cell_type": "code",
   "execution_count": 112,
   "metadata": {},
   "outputs": [
    {
     "data": {
      "image/png": "[encoded data removed]",
      "text/plain": [
       "<Figure size 432x288 with 1 Axes>"
      ]
     },
     "metadata": {
      "needs_background": "light"
     },
     "output_type": "display_data"
    }
   ],
   "source": [
    "# Assuming you have a layer named 'my_layer' in your model\n",
    "for name, param in model.named_parameters():\n",
    "    if name == 'conv2.weight':\n",
    "        plt.hist(param.data.cpu().numpy().flatten(), bins=50)\n",
    "        plt.title('Weight Histogram')\n",
    "        plt.show()"
   ]
  },
  {
   "cell_type": "code",
   "execution_count": 134,
   "metadata": {},
   "outputs": [
    {
     "name": "stderr",
     "output_type": "stream",
     "text": [
      "Clipping input data to the valid range for imshow with RGB data ([0..1] for floats or [0..255] for integers).\n",
      "Clipping input data to the valid range for imshow with RGB data ([0..1] for floats or [0..255] for integers).\n"
     ]
    },
    {
     "name": "stdout",
     "output_type": "stream",
     "text": [
      "0\n",
      "0\n"
     ]
    },
    {
     "data": {
      "image/png": "[encoded data removed]",
      "text/plain": [
       "<Figure size 576x288 with 2 Axes>"
      ]
     },
     "metadata": {
      "needs_background": "light"
     },
     "output_type": "display_data"
    }
   ],
   "source": [
    "import random\n",
    "\n",
    "# Function to visualize a random sample from the test set\n",
    "def visualize_random_sample(model, test_loader):\n",
    "    model.eval()\n",
    "    \n",
    "    # Get a random sample from the test set\n",
    "    sample_idx = random.randint(0, len(test_loader.dataset) - 1)\n",
    "    sample_image, sample_label = test_loader.dataset[sample_idx]\n",
    "    \n",
    "    print(sample_label)\n",
    "    \n",
    "    # Forward pass to get the model's prediction\n",
    "    with torch.no_grad():\n",
    "        output = model(sample_image.unsqueeze(0))\n",
    "        predicted_class = output.argmax(1).item()\n",
    "        \n",
    "    print(predicted_class)\n",
    "    \n",
    "    # Convert class index to class label (if needed)\n",
    "    class_labels = ['car', 'deer', 'horse', 'monkey', 'truck']\n",
    "    \n",
    "    # Display the input image, true label, and model's prediction\n",
    "    plt.figure(figsize=(8, 4))\n",
    "    plt.subplot(1, 2, 1)\n",
    "    plt.title(f\"True Label: {class_labels[sample_label]}\")\n",
    "    plt.imshow(sample_image.permute(1, 2, 0))\n",
    "    plt.axis('off')\n",
    "    \n",
    "    plt.subplot(1, 2, 2)\n",
    "    plt.title(f\"Predicted: {class_labels[predicted_class]}\")\n",
    "    plt.imshow(sample_image.permute(1, 2, 0))\n",
    "    plt.axis('off')\n",
    "    \n",
    "    plt.show()\n",
    "\n",
    "# Visualize a random sample\n",
    "visualize_random_sample(model, test_loader)"
   ]
  },
  {
   "cell_type": "markdown",
   "metadata": {
    "id": "nDUT9jtY99iB"
   },
   "source": [
    "#  **3. Bonus (optional)**\n",
    "Play with your code and try to get a higher accuracy on the test dataset (5 class from STL-10), as high as you can. The teams with the highest accuracy will get extra points, that will go on top of their average lab grade (weighed sum of all lab assignments) (your final grade can not exceed 10):\n",
    "\n",
    "**1st place:** *5%*\n",
    "\n",
    "**2nd and 3rd place:** *4%*\n",
    "\n",
    "**4th and 5th place:** *3%*\n",
    "\n",
    "**6th and 7th place:** *2%*\n",
    "\n",
    "**8th-10th place:** *1%*.\n",
    "\n",
    "You can adjust the hyperparameters and changing structures. Your strategies should be described and explained in your report.\n",
    "\n",
    "**Note:** Please do not use external well-defined networks and please do not add more than 3 additional (beyond the original network) convolutional layers.\n",
    "\n",
    "**Note:** The only data you can use is from CIFAR-100 and SLT-10.\n",
    "\n",
    "**Hints**:\n",
    "*   Data augmentation\n",
    "*   Grid Search\n",
    "*   Freezing early layers\n",
    "*   Modifying Architecture\n",
    "*   Modifying hyperparameters, *etc*.\n",
    "*   [Other advice](https://cs231n.github.io/transfer-learning/)"
   ]
  },
  {
   "cell_type": "code",
   "execution_count": null,
   "metadata": {
    "id": "P1YsjfP199iB"
   },
   "outputs": [],
   "source": [
    "################################\n",
    "# we experimented for this using the same code as above with changing parameters. \n",
    "################################"
   ]
  },
  {
   "cell_type": "markdown",
   "metadata": {
    "id": "grbC046Fgcs0"
   },
   "source": [
    " # Individual Contribution Report *(Mandatory)*\n",
    "\n",
    "Because we want each student to contribute fairly to the submitted work, we ask you to fill out the textcells below. Write down your contribution to each of the assignment components in percentages. Naturally, percentages for one particular component should add up to 100% (e.g. 30% - 30% - 40%). No further explanation has to be given."
   ]
  },
  {
   "cell_type": "markdown",
   "metadata": {
    "id": "_I5rcHbegcs0"
   },
   "source": [
    "Name:Tanya Kaintura\n",
    "\n",
    "Contribution on research: 33.33%\n",
    "Contribution on programming: 33.33%\n",
    "Contribution on writing: 33.33%"
   ]
  },
  {
   "cell_type": "markdown",
   "metadata": {
    "id": "CkrptmyK5n4U"
   },
   "source": [
    "Name: Luis Vitor Zerkowski \n",
    "\n",
    "Contribution on research: 33.33%\n",
    "Contribution on programming: 33.33%\n",
    "Contribution on writing:33.33%"
   ]
  },
  {
   "cell_type": "markdown",
   "metadata": {
    "id": "iZ7N7CXO5n68"
   },
   "source": [
    "Name: Jelle van der Lee\n",
    "\n",
    "Contribution on research: 33.33%\n",
    "Contribution on programming: 33.33%\n",
    "Contribution on writing: 33.33%"
   ]
  },
  {
   "cell_type": "markdown",
   "metadata": {
    "id": "RctQ8Z1Cgcs0"
   },
   "source": [
    " # -End of Notebook-"
   ]
  }
 ],
 "metadata": {
  "colab": {
   "provenance": []
  },
  "kernelspec": {
   "display_name": "cv1",
   "language": "python",
   "name": "cv1"
  },
  "language_info": {
   "codemirror_mode": {
    "name": "ipython",
    "version": 3
   },
   "file_extension": ".py",
   "mimetype": "text/x-python",
   "name": "python",
   "nbconvert_exporter": "python",
   "pygments_lexer": "ipython3",
   "version": "3.9.12"
  },
  "toc": {
   "base_numbering": 1,
   "nav_menu": {},
   "number_sections": true,
   "sideBar": true,
   "skip_h1_title": false,
   "title_cell": "Table of Contents",
   "title_sidebar": "Contents",
   "toc_cell": false,
   "toc_position": {},
   "toc_section_display": true,
   "toc_window_display": false
  }
 },
 "nbformat": 4,
 "nbformat_minor": 1
}
